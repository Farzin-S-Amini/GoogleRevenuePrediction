{
 "cells": [
  {
   "cell_type": "code",
   "execution_count": 49,
   "metadata": {},
   "outputs": [],
   "source": [
    "import numpy as np\n",
    "import pandas as pd\n",
    "import seaborn as sns\n",
    "import matplotlib.pyplot as plt\n",
    "import os\n",
    "%matplotlib inline\n",
    "\n",
    "from pandas.io.json import json_normalize\n",
    "import json\n",
    "import random\n",
    "import warnings\n",
    "warnings.filterwarnings(\"ignore\")\n",
    "from sklearn.metrics import classification_report"
   ]
  },
  {
   "cell_type": "code",
   "execution_count": null,
   "metadata": {},
   "outputs": [],
   "source": []
  },
  {
   "cell_type": "code",
   "execution_count": null,
   "metadata": {},
   "outputs": [],
   "source": []
  },
  {
   "cell_type": "code",
   "execution_count": 2,
   "metadata": {},
   "outputs": [],
   "source": [
    "def load_df(csv_path='data/train.csv', nrows=None):\n",
    "    JSON_COLUMNS = ['device', 'geoNetwork', 'totals', 'trafficSource']\n",
    "    \n",
    "    p = 0.1\n",
    "    df = pd.read_csv(csv_path, \n",
    "                     converters={column: json.loads for column in JSON_COLUMNS}, \n",
    "                     dtype={'fullVisitorId': 'str'}, # Important!!\n",
    "                     skiprows=lambda i: i>0 and random.random() > p)\n",
    "    \n",
    "    for column in JSON_COLUMNS:\n",
    "        column_as_df = json_normalize(df[column])\n",
    "        column_as_df.columns = [\"{}.{}\".format(column, subcolumn) for subcolumn in column_as_df.columns]\n",
    "        df = df.drop(column, axis=1).merge(column_as_df, right_index=True, left_index=True)\n",
    "    print(\"Loaded {}. Shape: {}\".format(os.path.basename(csv_path), df.shape))\n",
    "    return df"
   ]
  },
  {
   "cell_type": "code",
   "execution_count": 3,
   "metadata": {},
   "outputs": [
    {
     "name": "stdout",
     "output_type": "stream",
     "text": [
      "Loaded train.csv. Shape: (90048, 54)\n",
      "Loaded test.csv. Shape: (80398, 53)\n"
     ]
    }
   ],
   "source": [
    "train_data = load_df()\n",
    "test_data = load_df('data/test.csv')"
   ]
  },
  {
   "cell_type": "code",
   "execution_count": 8,
   "metadata": {},
   "outputs": [
    {
     "name": "stdout",
     "output_type": "stream",
     "text": [
      "<class 'pandas.core.frame.DataFrame'>\n",
      "RangeIndex: 90048 entries, 0 to 90047\n",
      "Data columns (total 54 columns):\n",
      "channelGrouping                                      90048 non-null object\n",
      "date                                                 90048 non-null int64\n",
      "fullVisitorId                                        90048 non-null object\n",
      "sessionId                                            90048 non-null object\n",
      "socialEngagementType                                 90048 non-null object\n",
      "visitId                                              90048 non-null int64\n",
      "visitNumber                                          90048 non-null int64\n",
      "visitStartTime                                       90048 non-null int64\n",
      "device.browser                                       90048 non-null object\n",
      "device.browserSize                                   90048 non-null object\n",
      "device.browserVersion                                90048 non-null object\n",
      "device.deviceCategory                                90048 non-null object\n",
      "device.flashVersion                                  90048 non-null object\n",
      "device.isMobile                                      90048 non-null bool\n",
      "device.language                                      90048 non-null object\n",
      "device.mobileDeviceBranding                          90048 non-null object\n",
      "device.mobileDeviceInfo                              90048 non-null object\n",
      "device.mobileDeviceMarketingName                     90048 non-null object\n",
      "device.mobileDeviceModel                             90048 non-null object\n",
      "device.mobileInputSelector                           90048 non-null object\n",
      "device.operatingSystem                               90048 non-null object\n",
      "device.operatingSystemVersion                        90048 non-null object\n",
      "device.screenColors                                  90048 non-null object\n",
      "device.screenResolution                              90048 non-null object\n",
      "geoNetwork.city                                      90048 non-null object\n",
      "geoNetwork.cityId                                    90048 non-null object\n",
      "geoNetwork.continent                                 90048 non-null object\n",
      "geoNetwork.country                                   90048 non-null object\n",
      "geoNetwork.latitude                                  90048 non-null object\n",
      "geoNetwork.longitude                                 90048 non-null object\n",
      "geoNetwork.metro                                     90048 non-null object\n",
      "geoNetwork.networkDomain                             90048 non-null object\n",
      "geoNetwork.networkLocation                           90048 non-null object\n",
      "geoNetwork.region                                    90048 non-null object\n",
      "geoNetwork.subContinent                              90048 non-null object\n",
      "totals.bounces                                       44895 non-null object\n",
      "totals.hits                                          90048 non-null object\n",
      "totals.newVisits                                     70135 non-null object\n",
      "totals.pageviews                                     90038 non-null object\n",
      "totals.transactionRevenue                            1110 non-null object\n",
      "totals.visits                                        90048 non-null object\n",
      "trafficSource.adContent                              1117 non-null object\n",
      "trafficSource.adwordsClickInfo.adNetworkType         2199 non-null object\n",
      "trafficSource.adwordsClickInfo.criteriaParameters    90048 non-null object\n",
      "trafficSource.adwordsClickInfo.gclId                 2206 non-null object\n",
      "trafficSource.adwordsClickInfo.isVideoAd             2199 non-null object\n",
      "trafficSource.adwordsClickInfo.page                  2199 non-null object\n",
      "trafficSource.adwordsClickInfo.slot                  2199 non-null object\n",
      "trafficSource.campaign                               90048 non-null object\n",
      "trafficSource.isTrueDirect                           27155 non-null object\n",
      "trafficSource.keyword                                40121 non-null object\n",
      "trafficSource.medium                                 90048 non-null object\n",
      "trafficSource.referralPath                           32880 non-null object\n",
      "trafficSource.source                                 90048 non-null object\n",
      "dtypes: bool(1), int64(4), object(49)\n",
      "memory usage: 36.5+ MB\n"
     ]
    }
   ],
   "source": [
    "train_data.shape\n",
    "train_data.info()"
   ]
  },
  {
   "cell_type": "code",
   "execution_count": 9,
   "metadata": {},
   "outputs": [],
   "source": [
    "shops_or_not = lambda x : x.total"
   ]
  },
  {
   "cell_type": "code",
   "execution_count": 10,
   "metadata": {},
   "outputs": [
    {
     "data": {
      "text/plain": [
       "85530"
      ]
     },
     "execution_count": 10,
     "metadata": {},
     "output_type": "execute_result"
    }
   ],
   "source": [
    "train_data['fullVisitorId'].nunique()"
   ]
  },
  {
   "cell_type": "code",
   "execution_count": 11,
   "metadata": {},
   "outputs": [],
   "source": [
    "train_data[\"totals.transactionRevenue\"] = train_data[\"totals.transactionRevenue\"].astype('float')\n",
    "y_clf = (train_data['totals.transactionRevenue'].fillna(0) > 0).astype(np.uint8)\n",
    "y_reg = train_data['totals.transactionRevenue'].fillna(0)"
   ]
  },
  {
   "cell_type": "code",
   "execution_count": 12,
   "metadata": {},
   "outputs": [
    {
     "ename": "AttributeError",
     "evalue": "'Series' object has no attribute 'info'",
     "output_type": "error",
     "traceback": [
      "\u001b[1;31m---------------------------------------------------------------------------\u001b[0m",
      "\u001b[1;31mAttributeError\u001b[0m                            Traceback (most recent call last)",
      "\u001b[1;32m<ipython-input-12-502c483ae935>\u001b[0m in \u001b[0;36m<module>\u001b[1;34m()\u001b[0m\n\u001b[1;32m----> 1\u001b[1;33m \u001b[0my_reg\u001b[0m\u001b[1;33m.\u001b[0m\u001b[0minfo\u001b[0m\u001b[1;33m(\u001b[0m\u001b[1;33m)\u001b[0m\u001b[1;33m\u001b[0m\u001b[0m\n\u001b[0m",
      "\u001b[1;32m~\\AppData\\Local\\Continuum\\anaconda3\\lib\\site-packages\\pandas\\core\\generic.py\u001b[0m in \u001b[0;36m__getattr__\u001b[1;34m(self, name)\u001b[0m\n\u001b[0;32m   4370\u001b[0m             \u001b[1;32mif\u001b[0m \u001b[0mself\u001b[0m\u001b[1;33m.\u001b[0m\u001b[0m_info_axis\u001b[0m\u001b[1;33m.\u001b[0m\u001b[0m_can_hold_identifiers_and_holds_name\u001b[0m\u001b[1;33m(\u001b[0m\u001b[0mname\u001b[0m\u001b[1;33m)\u001b[0m\u001b[1;33m:\u001b[0m\u001b[1;33m\u001b[0m\u001b[0m\n\u001b[0;32m   4371\u001b[0m                 \u001b[1;32mreturn\u001b[0m \u001b[0mself\u001b[0m\u001b[1;33m[\u001b[0m\u001b[0mname\u001b[0m\u001b[1;33m]\u001b[0m\u001b[1;33m\u001b[0m\u001b[0m\n\u001b[1;32m-> 4372\u001b[1;33m             \u001b[1;32mreturn\u001b[0m \u001b[0mobject\u001b[0m\u001b[1;33m.\u001b[0m\u001b[0m__getattribute__\u001b[0m\u001b[1;33m(\u001b[0m\u001b[0mself\u001b[0m\u001b[1;33m,\u001b[0m \u001b[0mname\u001b[0m\u001b[1;33m)\u001b[0m\u001b[1;33m\u001b[0m\u001b[0m\n\u001b[0m\u001b[0;32m   4373\u001b[0m \u001b[1;33m\u001b[0m\u001b[0m\n\u001b[0;32m   4374\u001b[0m     \u001b[1;32mdef\u001b[0m \u001b[0m__setattr__\u001b[0m\u001b[1;33m(\u001b[0m\u001b[0mself\u001b[0m\u001b[1;33m,\u001b[0m \u001b[0mname\u001b[0m\u001b[1;33m,\u001b[0m \u001b[0mvalue\u001b[0m\u001b[1;33m)\u001b[0m\u001b[1;33m:\u001b[0m\u001b[1;33m\u001b[0m\u001b[0m\n",
      "\u001b[1;31mAttributeError\u001b[0m: 'Series' object has no attribute 'info'"
     ]
    }
   ],
   "source": [
    "y_reg.info()"
   ]
  },
  {
   "cell_type": "code",
   "execution_count": 16,
   "metadata": {},
   "outputs": [
    {
     "data": {
      "text/plain": [
       "0    88938\n",
       "1     1110\n",
       "Name: totals.transactionRevenue, dtype: int64"
      ]
     },
     "execution_count": 16,
     "metadata": {},
     "output_type": "execute_result"
    }
   ],
   "source": [
    "y_clf.describe()\n",
    "y_clf.value_counts()"
   ]
  },
  {
   "cell_type": "code",
   "execution_count": 20,
   "metadata": {},
   "outputs": [
    {
     "data": {
      "text/plain": [
       "count    9.004800e+04\n",
       "mean     1.586129e+06\n",
       "std      3.874210e+07\n",
       "min      0.000000e+00\n",
       "25%      0.000000e+00\n",
       "50%      0.000000e+00\n",
       "75%      0.000000e+00\n",
       "max      6.826960e+09\n",
       "Name: totals.transactionRevenue, dtype: float64"
      ]
     },
     "execution_count": 20,
     "metadata": {},
     "output_type": "execute_result"
    }
   ],
   "source": [
    "y_reg.describe()\n",
    "# y_reg.value_counts()"
   ]
  },
  {
   "cell_type": "code",
   "execution_count": 22,
   "metadata": {},
   "outputs": [],
   "source": [
    "def date_format(df):\n",
    "    df['date'] = pd.to_datetime(df['date'])\n",
    "    df['vis_date'] = pd.to_datetime(df['visitStartTime'])\n",
    "    df['sess_date_dow'] = df['vis_date'].dt.dayofweek\n",
    "    df['sess_date_hours'] = df['vis_date'].dt.hour\n",
    "    df['sess_date_dom'] = df['vis_date'].dt.day\n",
    "date_format(train_data)\n",
    "date_format(test_data)"
   ]
  },
  {
   "cell_type": "code",
   "execution_count": 23,
   "metadata": {},
   "outputs": [
    {
     "name": "stdout",
     "output_type": "stream",
     "text": [
      "<class 'pandas.core.frame.DataFrame'>\n",
      "RangeIndex: 80398 entries, 0 to 80397\n",
      "Data columns (total 57 columns):\n",
      "channelGrouping                                      80398 non-null object\n",
      "date                                                 80398 non-null datetime64[ns]\n",
      "fullVisitorId                                        80398 non-null object\n",
      "sessionId                                            80398 non-null object\n",
      "socialEngagementType                                 80398 non-null object\n",
      "visitId                                              80398 non-null int64\n",
      "visitNumber                                          80398 non-null int64\n",
      "visitStartTime                                       80398 non-null int64\n",
      "device.browser                                       80398 non-null object\n",
      "device.browserSize                                   80398 non-null object\n",
      "device.browserVersion                                80398 non-null object\n",
      "device.deviceCategory                                80398 non-null object\n",
      "device.flashVersion                                  80398 non-null object\n",
      "device.isMobile                                      80398 non-null bool\n",
      "device.language                                      80398 non-null object\n",
      "device.mobileDeviceBranding                          80398 non-null object\n",
      "device.mobileDeviceInfo                              80398 non-null object\n",
      "device.mobileDeviceMarketingName                     80398 non-null object\n",
      "device.mobileDeviceModel                             80398 non-null object\n",
      "device.mobileInputSelector                           80398 non-null object\n",
      "device.operatingSystem                               80398 non-null object\n",
      "device.operatingSystemVersion                        80398 non-null object\n",
      "device.screenColors                                  80398 non-null object\n",
      "device.screenResolution                              80398 non-null object\n",
      "geoNetwork.city                                      80398 non-null object\n",
      "geoNetwork.cityId                                    80398 non-null object\n",
      "geoNetwork.continent                                 80398 non-null object\n",
      "geoNetwork.country                                   80398 non-null object\n",
      "geoNetwork.latitude                                  80398 non-null object\n",
      "geoNetwork.longitude                                 80398 non-null object\n",
      "geoNetwork.metro                                     80398 non-null object\n",
      "geoNetwork.networkDomain                             80398 non-null object\n",
      "geoNetwork.networkLocation                           80398 non-null object\n",
      "geoNetwork.region                                    80398 non-null object\n",
      "geoNetwork.subContinent                              80398 non-null object\n",
      "totals.bounces                                       42170 non-null object\n",
      "totals.hits                                          80398 non-null object\n",
      "totals.newVisits                                     60412 non-null object\n",
      "totals.pageviews                                     80384 non-null object\n",
      "totals.visits                                        80398 non-null object\n",
      "trafficSource.adContent                              5378 non-null object\n",
      "trafficSource.adwordsClickInfo.adNetworkType         5339 non-null object\n",
      "trafficSource.adwordsClickInfo.criteriaParameters    80398 non-null object\n",
      "trafficSource.adwordsClickInfo.gclId                 5344 non-null object\n",
      "trafficSource.adwordsClickInfo.isVideoAd             5339 non-null object\n",
      "trafficSource.adwordsClickInfo.page                  5339 non-null object\n",
      "trafficSource.adwordsClickInfo.slot                  5339 non-null object\n",
      "trafficSource.campaign                               80398 non-null object\n",
      "trafficSource.isTrueDirect                           26085 non-null object\n",
      "trafficSource.keyword                                41245 non-null object\n",
      "trafficSource.medium                                 80398 non-null object\n",
      "trafficSource.referralPath                           23466 non-null object\n",
      "trafficSource.source                                 80398 non-null object\n",
      "vis_date                                             80398 non-null datetime64[ns]\n",
      "sess_date_dow                                        80398 non-null int64\n",
      "sess_date_hours                                      80398 non-null int64\n",
      "sess_date_dom                                        80398 non-null int64\n",
      "dtypes: bool(1), datetime64[ns](2), int64(6), object(48)\n",
      "memory usage: 34.4+ MB\n"
     ]
    }
   ],
   "source": [
    "test_data.info()"
   ]
  },
  {
   "cell_type": "code",
   "execution_count": 24,
   "metadata": {},
   "outputs": [],
   "source": [
    "excluded_features = [\n",
    "    'date', 'fullVisitorId', 'sessionId', 'totals.transactionRevenue', \n",
    "    'visitId', 'visitStartTime', 'non_zero_proba', 'vis_date'\n",
    "]\n",
    "\n",
    "categorical_features = [\n",
    "    _f for _f in train_data.columns\n",
    "    if (_f not in excluded_features) & (train_data[_f].dtype == 'object')\n",
    "]"
   ]
  },
  {
   "cell_type": "code",
   "execution_count": 25,
   "metadata": {},
   "outputs": [],
   "source": [
    "if 'totals.transactionRevenue' in train_data.columns:\n",
    "    del train_data['totals.transactionRevenue']\n",
    "\n",
    "if 'totals.transactionRevenue' in test_data.columns:\n",
    "    del test_data['totals.transactionRevenue']"
   ]
  },
  {
   "cell_type": "code",
   "execution_count": 26,
   "metadata": {},
   "outputs": [],
   "source": [
    "for f in categorical_features:\n",
    "    train_data[f], indexer = pd.factorize(train_data[f])\n",
    "    test_data[f] = indexer.get_indexer(test_data[f])"
   ]
  },
  {
   "cell_type": "code",
   "execution_count": 42,
   "metadata": {},
   "outputs": [
    {
     "name": "stdout",
     "output_type": "stream",
     "text": [
      "['channelGrouping', 'socialEngagementType', 'visitNumber', 'device.browser', 'device.browserSize', 'device.browserVersion', 'device.deviceCategory', 'device.flashVersion', 'device.isMobile', 'device.language', 'device.mobileDeviceBranding', 'device.mobileDeviceInfo', 'device.mobileDeviceMarketingName', 'device.mobileDeviceModel', 'device.mobileInputSelector', 'device.operatingSystem', 'device.operatingSystemVersion', 'device.screenColors', 'device.screenResolution', 'geoNetwork.city', 'geoNetwork.cityId', 'geoNetwork.continent', 'geoNetwork.country', 'geoNetwork.latitude', 'geoNetwork.longitude', 'geoNetwork.metro', 'geoNetwork.networkDomain', 'geoNetwork.networkLocation', 'geoNetwork.region', 'geoNetwork.subContinent', 'totals.bounces', 'totals.hits', 'totals.newVisits', 'totals.pageviews', 'totals.visits', 'trafficSource.adContent', 'trafficSource.adwordsClickInfo.adNetworkType', 'trafficSource.adwordsClickInfo.criteriaParameters', 'trafficSource.adwordsClickInfo.gclId', 'trafficSource.adwordsClickInfo.isVideoAd', 'trafficSource.adwordsClickInfo.page', 'trafficSource.adwordsClickInfo.slot', 'trafficSource.campaign', 'trafficSource.isTrueDirect', 'trafficSource.keyword', 'trafficSource.medium', 'trafficSource.referralPath', 'trafficSource.source', 'sess_date_dow', 'sess_date_hours', 'sess_date_dom']\n",
      "Training until validation scores don't improve for 50 rounds.\n",
      "[50]\tvalid_0's binary_logloss: 0.031559\n",
      "[100]\tvalid_0's binary_logloss: 0.0292751\n",
      "[150]\tvalid_0's binary_logloss: 0.0290732\n",
      "Early stopping, best iteration is:\n",
      "[140]\tvalid_0's binary_logloss: 0.0290398\n",
      "0.5666039027730227\n"
     ]
    },
    {
     "name": "stderr",
     "output_type": "stream",
     "text": [
      "C:\\Users\\fsarvara\\AppData\\Local\\Continuum\\anaconda3\\lib\\site-packages\\sklearn\\preprocessing\\label.py:151: DeprecationWarning: The truth value of an empty array is ambiguous. Returning False, but in future this will result in an error. Use `array.size > 0` to check that an array is not empty.\n",
      "  if diff:\n"
     ]
    },
    {
     "name": "stdout",
     "output_type": "stream",
     "text": [
      "Training until validation scores don't improve for 50 rounds.\n",
      "[50]\tvalid_0's binary_logloss: 0.034484\n",
      "[100]\tvalid_0's binary_logloss: 0.032615\n",
      "[150]\tvalid_0's binary_logloss: 0.0323188\n",
      "[200]\tvalid_0's binary_logloss: 0.0324743\n",
      "Early stopping, best iteration is:\n",
      "[159]\tvalid_0's binary_logloss: 0.0322834\n"
     ]
    },
    {
     "name": "stderr",
     "output_type": "stream",
     "text": [
      "C:\\Users\\fsarvara\\AppData\\Local\\Continuum\\anaconda3\\lib\\site-packages\\sklearn\\preprocessing\\label.py:151: DeprecationWarning: The truth value of an empty array is ambiguous. Returning False, but in future this will result in an error. Use `array.size > 0` to check that an array is not empty.\n",
      "  if diff:\n"
     ]
    },
    {
     "name": "stdout",
     "output_type": "stream",
     "text": [
      "0.5764893456073178\n",
      "Training until validation scores don't improve for 50 rounds.\n",
      "[50]\tvalid_0's binary_logloss: 0.0306835\n",
      "[100]\tvalid_0's binary_logloss: 0.0285514\n",
      "[150]\tvalid_0's binary_logloss: 0.028174\n",
      "[200]\tvalid_0's binary_logloss: 0.0282323\n",
      "Early stopping, best iteration is:\n",
      "[154]\tvalid_0's binary_logloss: 0.0281618\n"
     ]
    },
    {
     "name": "stderr",
     "output_type": "stream",
     "text": [
      "C:\\Users\\fsarvara\\AppData\\Local\\Continuum\\anaconda3\\lib\\site-packages\\sklearn\\preprocessing\\label.py:151: DeprecationWarning: The truth value of an empty array is ambiguous. Returning False, but in future this will result in an error. Use `array.size > 0` to check that an array is not empty.\n",
      "  if diff:\n"
     ]
    },
    {
     "name": "stdout",
     "output_type": "stream",
     "text": [
      "0.5545862932427644\n",
      "Training until validation scores don't improve for 50 rounds.\n",
      "[50]\tvalid_0's binary_logloss: 0.0321343\n",
      "[100]\tvalid_0's binary_logloss: 0.0299342\n",
      "[150]\tvalid_0's binary_logloss: 0.0299024\n",
      "Early stopping, best iteration is:\n",
      "[113]\tvalid_0's binary_logloss: 0.0297884\n",
      "0.5641698712799712\n"
     ]
    },
    {
     "name": "stderr",
     "output_type": "stream",
     "text": [
      "C:\\Users\\fsarvara\\AppData\\Local\\Continuum\\anaconda3\\lib\\site-packages\\sklearn\\preprocessing\\label.py:151: DeprecationWarning: The truth value of an empty array is ambiguous. Returning False, but in future this will result in an error. Use `array.size > 0` to check that an array is not empty.\n",
      "  if diff:\n"
     ]
    },
    {
     "name": "stdout",
     "output_type": "stream",
     "text": [
      "Training until validation scores don't improve for 50 rounds.\n",
      "[50]\tvalid_0's binary_logloss: 0.0320731\n",
      "[100]\tvalid_0's binary_logloss: 0.029862\n",
      "[150]\tvalid_0's binary_logloss: 0.0295526\n",
      "Early stopping, best iteration is:\n",
      "[144]\tvalid_0's binary_logloss: 0.0295296\n",
      "0.5800068847299499\n"
     ]
    },
    {
     "name": "stderr",
     "output_type": "stream",
     "text": [
      "C:\\Users\\fsarvara\\AppData\\Local\\Continuum\\anaconda3\\lib\\site-packages\\sklearn\\preprocessing\\label.py:151: DeprecationWarning: The truth value of an empty array is ambiguous. Returning False, but in future this will result in an error. Use `array.size > 0` to check that an array is not empty.\n",
      "  if diff:\n"
     ]
    },
    {
     "data": {
      "text/plain": [
       "0.5685373290716338"
      ]
     },
     "execution_count": 42,
     "metadata": {},
     "output_type": "execute_result"
    }
   ],
   "source": [
    "import lightgbm as lgb\n",
    "from sklearn.model_selection import KFold, GroupKFold\n",
    "from sklearn.metrics import mean_squared_error, roc_auc_score, log_loss\n",
    "\n",
    "folds = GroupKFold(n_splits=5)\n",
    "\n",
    "train_features = [_f for _f in train_data.columns if _f not in excluded_features]\n",
    "print(train_features)\n",
    "oof_clf_preds = np.zeros(train_data.shape[0])\n",
    "sub_clf_preds = np.zeros(test_data.shape[0])\n",
    "for fold_, (trn_, val_) in enumerate(folds.split(y_clf, y_clf, groups=train_data['fullVisitorId'])):\n",
    "    trn_x, trn_y = train_data[train_features].iloc[trn_], y_clf.iloc[trn_]\n",
    "    val_x, val_y = train_data[train_features].iloc[val_], y_clf.iloc[val_]\n",
    "    \n",
    "    clf = lgb.LGBMClassifier(\n",
    "        num_leaves=31,\n",
    "        learning_rate=0.03,\n",
    "        n_estimators=1000,\n",
    "        subsample=.9,\n",
    "        colsample_bytree=.9,\n",
    "        random_state=1\n",
    "    )\n",
    "    clf.fit(\n",
    "        trn_x, trn_y,\n",
    "        eval_set=[(val_x, val_y)],\n",
    "        early_stopping_rounds=50,\n",
    "        verbose=50\n",
    "    )\n",
    "    \n",
    "    oof_clf_preds[val_] = clf.predict(val_x, num_iteration=clf.best_iteration_)[:]\n",
    "    print(roc_auc_score(val_y, oof_clf_preds[val_]))\n",
    "    sub_clf_preds += clf.predict_proba(test_data[train_features], num_iteration=clf.best_iteration_)[:, 1] / folds.n_splits\n",
    "    \n",
    "roc_auc_score(y_clf, oof_clf_preds)"
   ]
  },
  {
   "cell_type": "code",
   "execution_count": 47,
   "metadata": {},
   "outputs": [
    {
     "data": {
      "text/plain": [
       "(90048,)"
      ]
     },
     "execution_count": 47,
     "metadata": {},
     "output_type": "execute_result"
    }
   ],
   "source": [
    "oof_clf_preds.shape"
   ]
  },
  {
   "cell_type": "code",
   "execution_count": 48,
   "metadata": {},
   "outputs": [
    {
     "data": {
      "text/plain": [
       "302.0"
      ]
     },
     "execution_count": 48,
     "metadata": {},
     "output_type": "execute_result"
    }
   ],
   "source": [
    "sum(oof_clf_preds)"
   ]
  },
  {
   "cell_type": "code",
   "execution_count": 51,
   "metadata": {},
   "outputs": [
    {
     "name": "stdout",
     "output_type": "stream",
     "text": [
      "             precision    recall  f1-score   support\n",
      "\n",
      "          0       0.99      1.00      0.99     88938\n",
      "          1       0.51      0.14      0.22      1110\n",
      "\n",
      "avg / total       0.98      0.99      0.98     90048\n",
      "\n"
     ]
    }
   ],
   "source": [
    "print(classification_report(y_clf, oof_clf_preds))"
   ]
  },
  {
   "cell_type": "code",
   "execution_count": 34,
   "metadata": {},
   "outputs": [],
   "source": [
    "from scipy import stats"
   ]
  },
  {
   "cell_type": "code",
   "execution_count": 35,
   "metadata": {},
   "outputs": [
    {
     "name": "stdout",
     "output_type": "stream",
     "text": [
      "DescribeResult(nobs=90048, minmax=(0.00011981964195201018, 0.7890583085190511), mean=0.01207915160177811, variance=0.003526780826070587, skewness=6.568133342324496, kurtosis=48.59116723131517)\n"
     ]
    }
   ],
   "source": [
    "print(stats.describe(oof_clf_preds))"
   ]
  },
  {
   "cell_type": "code",
   "execution_count": 36,
   "metadata": {},
   "outputs": [
    {
     "data": {
      "text/plain": [
       "0.00011981964195201018"
      ]
     },
     "execution_count": 36,
     "metadata": {},
     "output_type": "execute_result"
    }
   ],
   "source": [
    "oof_clf_preds.min()"
   ]
  },
  {
   "cell_type": "code",
   "execution_count": 37,
   "metadata": {},
   "outputs": [
    {
     "data": {
      "text/plain": [
       "0.7890583085190511"
      ]
     },
     "execution_count": 37,
     "metadata": {},
     "output_type": "execute_result"
    }
   ],
   "source": [
    "oof_clf_preds.max()"
   ]
  },
  {
   "cell_type": "code",
   "execution_count": 38,
   "metadata": {},
   "outputs": [],
   "source": [
    "from sklearn.metrics import precision_recall_curve"
   ]
  },
  {
   "cell_type": "code",
   "execution_count": 40,
   "metadata": {},
   "outputs": [],
   "source": [
    "precision, recall, thresholds = precision_recall_curve(y_clf, oof_clf_preds)"
   ]
  },
  {
   "cell_type": "code",
   "execution_count": null,
   "metadata": {},
   "outputs": [],
   "source": []
  }
 ],
 "metadata": {
  "kernelspec": {
   "display_name": "Python 3",
   "language": "python",
   "name": "python3"
  },
  "language_info": {
   "codemirror_mode": {
    "name": "ipython",
    "version": 3
   },
   "file_extension": ".py",
   "mimetype": "text/x-python",
   "name": "python",
   "nbconvert_exporter": "python",
   "pygments_lexer": "ipython3",
   "version": "3.6.5"
  }
 },
 "nbformat": 4,
 "nbformat_minor": 2
}
