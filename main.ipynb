{
 "cells": [
  {
   "cell_type": "code",
   "execution_count": 1,
   "metadata": {},
   "outputs": [],
   "source": [
    "import numpy as np\n",
    "import pandas as pd\n",
    "import seaborn as sns\n",
    "import matplotlib.pyplot as plt\n",
    "import os\n",
    "%matplotlib inline\n",
    "\n",
    "from pandas.io.json import json_normalize\n",
    "import json\n",
    "import random\n",
    "import warnings\n",
    "warnings.filterwarnings(\"ignore\")"
   ]
  },
  {
   "cell_type": "code",
   "execution_count": null,
   "metadata": {},
   "outputs": [],
   "source": []
  },
  {
   "cell_type": "code",
   "execution_count": null,
   "metadata": {},
   "outputs": [],
   "source": []
  },
  {
   "cell_type": "code",
   "execution_count": 2,
   "metadata": {},
   "outputs": [],
   "source": [
    "def load_df(csv_path='data/train.csv', nrows=None):\n",
    "    JSON_COLUMNS = ['device', 'geoNetwork', 'totals', 'trafficSource']\n",
    "    \n",
    "    p = 0.1\n",
    "    df = pd.read_csv(csv_path, \n",
    "                     converters={column: json.loads for column in JSON_COLUMNS}, \n",
    "                     dtype={'fullVisitorId': 'str'}, # Important!!\n",
    "                     skiprows=lambda i: i>0 and random.random() > p)\n",
    "    \n",
    "    for column in JSON_COLUMNS:\n",
    "        column_as_df = json_normalize(df[column])\n",
    "        column_as_df.columns = [\"{}.{}\".format(column, subcolumn) for subcolumn in column_as_df.columns]\n",
    "        df = df.drop(column, axis=1).merge(column_as_df, right_index=True, left_index=True)\n",
    "    print(\"Loaded {}. Shape: {}\".format(os.path.basename(csv_path), df.shape))\n",
    "    return df"
   ]
  },
  {
   "cell_type": "code",
   "execution_count": 3,
   "metadata": {},
   "outputs": [
    {
     "name": "stdout",
     "output_type": "stream",
     "text": [
      "Loaded train.csv. Shape: (90059, 54)\n",
      "Loaded test.csv. Shape: (80313, 53)\n"
     ]
    }
   ],
   "source": [
    "train_data = load_df()\n",
    "test_data = load_df('data/test.csv')"
   ]
  },
  {
   "cell_type": "code",
   "execution_count": 4,
   "metadata": {},
   "outputs": [
    {
     "data": {
      "text/plain": [
       "(90059, 54)"
      ]
     },
     "execution_count": 4,
     "metadata": {},
     "output_type": "execute_result"
    }
   ],
   "source": [
    "train_data.shape"
   ]
  },
  {
   "cell_type": "code",
   "execution_count": 5,
   "metadata": {},
   "outputs": [],
   "source": [
    "shops_or_not = lambda x : x.total"
   ]
  },
  {
   "cell_type": "code",
   "execution_count": 6,
   "metadata": {},
   "outputs": [
    {
     "data": {
      "text/plain": [
       "85579"
      ]
     },
     "execution_count": 6,
     "metadata": {},
     "output_type": "execute_result"
    }
   ],
   "source": [
    "train_data['fullVisitorId'].nunique()"
   ]
  },
  {
   "cell_type": "code",
   "execution_count": 7,
   "metadata": {},
   "outputs": [],
   "source": [
    "train_data[\"totals.transactionRevenue\"] = train_data[\"totals.transactionRevenue\"].astype('float')\n",
    "y_clf = (train_data['totals.transactionRevenue'].fillna(0) > 0).astype(np.uint8)\n",
    "y_reg = train_data['totals.transactionRevenue'].fillna(0)"
   ]
  },
  {
   "cell_type": "code",
   "execution_count": 8,
   "metadata": {},
   "outputs": [
    {
     "data": {
      "text/plain": [
       "0    0.0\n",
       "1    0.0\n",
       "2    0.0\n",
       "3    0.0\n",
       "4    0.0\n",
       "Name: totals.transactionRevenue, dtype: float64"
      ]
     },
     "execution_count": 8,
     "metadata": {},
     "output_type": "execute_result"
    }
   ],
   "source": [
    "y_reg.head()"
   ]
  },
  {
   "cell_type": "code",
   "execution_count": 9,
   "metadata": {},
   "outputs": [
    {
     "data": {
      "text/plain": [
       "0    0\n",
       "1    0\n",
       "2    0\n",
       "3    0\n",
       "4    0\n",
       "Name: totals.transactionRevenue, dtype: uint8"
      ]
     },
     "execution_count": 9,
     "metadata": {},
     "output_type": "execute_result"
    }
   ],
   "source": [
    "y_clf.head()"
   ]
  },
  {
   "cell_type": "code",
   "execution_count": 10,
   "metadata": {},
   "outputs": [
    {
     "data": {
      "text/plain": [
       "17855500000.0"
      ]
     },
     "execution_count": 10,
     "metadata": {},
     "output_type": "execute_result"
    }
   ],
   "source": [
    "y_reg.max()"
   ]
  },
  {
   "cell_type": "code",
   "execution_count": 11,
   "metadata": {},
   "outputs": [
    {
     "data": {
      "text/plain": [
       "0.012291941949166657"
      ]
     },
     "execution_count": 11,
     "metadata": {},
     "output_type": "execute_result"
    }
   ],
   "source": [
    "y_clf.mean()"
   ]
  },
  {
   "cell_type": "raw",
   "metadata": {},
   "source": [
    "train_data['totals.transactionRevenue'].max()"
   ]
  },
  {
   "cell_type": "code",
   "execution_count": 12,
   "metadata": {},
   "outputs": [
    {
     "data": {
      "text/plain": [
       "1"
      ]
     },
     "execution_count": 12,
     "metadata": {},
     "output_type": "execute_result"
    }
   ],
   "source": [
    "y_clf.max()"
   ]
  },
  {
   "cell_type": "code",
   "execution_count": 13,
   "metadata": {},
   "outputs": [
    {
     "data": {
      "text/plain": [
       "17855500000.0"
      ]
     },
     "execution_count": 13,
     "metadata": {},
     "output_type": "execute_result"
    }
   ],
   "source": [
    "y_reg.max()"
   ]
  },
  {
   "cell_type": "code",
   "execution_count": 14,
   "metadata": {},
   "outputs": [],
   "source": [
    "def date_format(df):\n",
    "    df['date'] = pd.to_datetime(df['date'])\n",
    "    df['vis_date'] = pd.to_datetime(df['visitStartTime'])\n",
    "    df['sess_date_dow'] = df['vis_date'].dt.dayofweek\n",
    "    df['sess_date_hours'] = df['vis_date'].dt.hour\n",
    "    df['sess_date_dom'] = df['vis_date'].dt.day\n",
    "date_format(train_data)\n",
    "date_format(test_data)"
   ]
  },
  {
   "cell_type": "code",
   "execution_count": 15,
   "metadata": {},
   "outputs": [
    {
     "name": "stdout",
     "output_type": "stream",
     "text": [
      "<class 'pandas.core.frame.DataFrame'>\n",
      "RangeIndex: 80313 entries, 0 to 80312\n",
      "Data columns (total 57 columns):\n",
      "channelGrouping                                      80313 non-null object\n",
      "date                                                 80313 non-null datetime64[ns]\n",
      "fullVisitorId                                        80313 non-null object\n",
      "sessionId                                            80313 non-null object\n",
      "socialEngagementType                                 80313 non-null object\n",
      "visitId                                              80313 non-null int64\n",
      "visitNumber                                          80313 non-null int64\n",
      "visitStartTime                                       80313 non-null int64\n",
      "device.browser                                       80313 non-null object\n",
      "device.browserSize                                   80313 non-null object\n",
      "device.browserVersion                                80313 non-null object\n",
      "device.deviceCategory                                80313 non-null object\n",
      "device.flashVersion                                  80313 non-null object\n",
      "device.isMobile                                      80313 non-null bool\n",
      "device.language                                      80313 non-null object\n",
      "device.mobileDeviceBranding                          80313 non-null object\n",
      "device.mobileDeviceInfo                              80313 non-null object\n",
      "device.mobileDeviceMarketingName                     80313 non-null object\n",
      "device.mobileDeviceModel                             80313 non-null object\n",
      "device.mobileInputSelector                           80313 non-null object\n",
      "device.operatingSystem                               80313 non-null object\n",
      "device.operatingSystemVersion                        80313 non-null object\n",
      "device.screenColors                                  80313 non-null object\n",
      "device.screenResolution                              80313 non-null object\n",
      "geoNetwork.city                                      80313 non-null object\n",
      "geoNetwork.cityId                                    80313 non-null object\n",
      "geoNetwork.continent                                 80313 non-null object\n",
      "geoNetwork.country                                   80313 non-null object\n",
      "geoNetwork.latitude                                  80313 non-null object\n",
      "geoNetwork.longitude                                 80313 non-null object\n",
      "geoNetwork.metro                                     80313 non-null object\n",
      "geoNetwork.networkDomain                             80313 non-null object\n",
      "geoNetwork.networkLocation                           80313 non-null object\n",
      "geoNetwork.region                                    80313 non-null object\n",
      "geoNetwork.subContinent                              80313 non-null object\n",
      "totals.bounces                                       41884 non-null object\n",
      "totals.hits                                          80313 non-null object\n",
      "totals.newVisits                                     60306 non-null object\n",
      "totals.pageviews                                     80295 non-null object\n",
      "totals.visits                                        80313 non-null object\n",
      "trafficSource.adContent                              5404 non-null object\n",
      "trafficSource.adwordsClickInfo.adNetworkType         5407 non-null object\n",
      "trafficSource.adwordsClickInfo.criteriaParameters    80313 non-null object\n",
      "trafficSource.adwordsClickInfo.gclId                 5411 non-null object\n",
      "trafficSource.adwordsClickInfo.isVideoAd             5407 non-null object\n",
      "trafficSource.adwordsClickInfo.page                  5407 non-null object\n",
      "trafficSource.adwordsClickInfo.slot                  5407 non-null object\n",
      "trafficSource.campaign                               80313 non-null object\n",
      "trafficSource.isTrueDirect                           26224 non-null object\n",
      "trafficSource.keyword                                41076 non-null object\n",
      "trafficSource.medium                                 80313 non-null object\n",
      "trafficSource.referralPath                           23458 non-null object\n",
      "trafficSource.source                                 80313 non-null object\n",
      "vis_date                                             80313 non-null datetime64[ns]\n",
      "sess_date_dow                                        80313 non-null int64\n",
      "sess_date_hours                                      80313 non-null int64\n",
      "sess_date_dom                                        80313 non-null int64\n",
      "dtypes: bool(1), datetime64[ns](2), int64(6), object(48)\n",
      "memory usage: 34.4+ MB\n"
     ]
    }
   ],
   "source": [
    "test_data.info()"
   ]
  },
  {
   "cell_type": "code",
   "execution_count": 16,
   "metadata": {},
   "outputs": [],
   "source": [
    "excluded_features = [\n",
    "    'date', 'fullVisitorId', 'sessionId', 'totals.transactionRevenue', \n",
    "    'visitId', 'visitStartTime', 'non_zero_proba', 'vis_date'\n",
    "]\n",
    "\n",
    "categorical_features = [\n",
    "    _f for _f in train_data.columns\n",
    "    if (_f not in excluded_features) & (train_data[_f].dtype == 'object')\n",
    "]"
   ]
  },
  {
   "cell_type": "code",
   "execution_count": 17,
   "metadata": {},
   "outputs": [],
   "source": [
    "if 'totals.transactionRevenue' in train_data.columns:\n",
    "    del train_data['totals.transactionRevenue']\n",
    "\n",
    "if 'totals.transactionRevenue' in test_data.columns:\n",
    "    del test_data['totals.transactionRevenue']"
   ]
  },
  {
   "cell_type": "code",
   "execution_count": 18,
   "metadata": {},
   "outputs": [],
   "source": [
    "for f in categorical_features:\n",
    "    train_data[f], indexer = pd.factorize(train_data[f])\n",
    "    test_data[f] = indexer.get_indexer(test_data[f])"
   ]
  },
  {
   "cell_type": "code",
   "execution_count": 26,
   "metadata": {},
   "outputs": [
    {
     "name": "stdout",
     "output_type": "stream",
     "text": [
      "['channelGrouping', 'socialEngagementType', 'visitNumber', 'device.browser', 'device.browserSize', 'device.browserVersion', 'device.deviceCategory', 'device.flashVersion', 'device.isMobile', 'device.language', 'device.mobileDeviceBranding', 'device.mobileDeviceInfo', 'device.mobileDeviceMarketingName', 'device.mobileDeviceModel', 'device.mobileInputSelector', 'device.operatingSystem', 'device.operatingSystemVersion', 'device.screenColors', 'device.screenResolution', 'geoNetwork.city', 'geoNetwork.cityId', 'geoNetwork.continent', 'geoNetwork.country', 'geoNetwork.latitude', 'geoNetwork.longitude', 'geoNetwork.metro', 'geoNetwork.networkDomain', 'geoNetwork.networkLocation', 'geoNetwork.region', 'geoNetwork.subContinent', 'totals.bounces', 'totals.hits', 'totals.newVisits', 'totals.pageviews', 'totals.visits', 'trafficSource.adContent', 'trafficSource.adwordsClickInfo.adNetworkType', 'trafficSource.adwordsClickInfo.criteriaParameters', 'trafficSource.adwordsClickInfo.gclId', 'trafficSource.adwordsClickInfo.isVideoAd', 'trafficSource.adwordsClickInfo.page', 'trafficSource.adwordsClickInfo.slot', 'trafficSource.campaign', 'trafficSource.isTrueDirect', 'trafficSource.keyword', 'trafficSource.medium', 'trafficSource.referralPath', 'trafficSource.source', 'sess_date_dow', 'sess_date_hours', 'sess_date_dom']\n",
      "Training until validation scores don't improve for 50 rounds.\n",
      "[50]\tvalid_0's binary_logloss: 0.034035\n",
      "[100]\tvalid_0's binary_logloss: 0.0317359\n",
      "[150]\tvalid_0's binary_logloss: 0.0313261\n",
      "[200]\tvalid_0's binary_logloss: 0.0313325\n",
      "Early stopping, best iteration is:\n",
      "[165]\tvalid_0's binary_logloss: 0.0312672\n",
      "0.9856002207564707\n",
      "Training until validation scores don't improve for 50 rounds.\n",
      "[50]\tvalid_0's binary_logloss: 0.0328696\n",
      "[100]\tvalid_0's binary_logloss: 0.0306094\n",
      "[150]\tvalid_0's binary_logloss: 0.0303871\n",
      "[200]\tvalid_0's binary_logloss: 0.030465\n",
      "Early stopping, best iteration is:\n",
      "[166]\tvalid_0's binary_logloss: 0.0303582\n",
      "0.9842918612531086\n",
      "Training until validation scores don't improve for 50 rounds.\n",
      "[50]\tvalid_0's binary_logloss: 0.0292641\n",
      "[100]\tvalid_0's binary_logloss: 0.0270128\n",
      "[150]\tvalid_0's binary_logloss: 0.0267263\n",
      "[200]\tvalid_0's binary_logloss: 0.0267683\n",
      "Early stopping, best iteration is:\n",
      "[162]\tvalid_0's binary_logloss: 0.0267019\n",
      "0.9865850747408115\n",
      "Training until validation scores don't improve for 50 rounds.\n",
      "[50]\tvalid_0's binary_logloss: 0.0328435\n",
      "[100]\tvalid_0's binary_logloss: 0.0309766\n",
      "[150]\tvalid_0's binary_logloss: 0.0309072\n",
      "Early stopping, best iteration is:\n",
      "[118]\tvalid_0's binary_logloss: 0.0308539\n",
      "0.9830081369557621\n",
      "Training until validation scores don't improve for 50 rounds.\n",
      "[50]\tvalid_0's binary_logloss: 0.0294079\n",
      "[100]\tvalid_0's binary_logloss: 0.0273031\n",
      "[150]\tvalid_0's binary_logloss: 0.0270109\n",
      "[200]\tvalid_0's binary_logloss: 0.027183\n",
      "Early stopping, best iteration is:\n",
      "[161]\tvalid_0's binary_logloss: 0.0269807\n",
      "0.9866244453182047\n"
     ]
    },
    {
     "data": {
      "text/plain": [
       "0.9848648871902576"
      ]
     },
     "execution_count": 26,
     "metadata": {},
     "output_type": "execute_result"
    }
   ],
   "source": [
    "import lightgbm as lgb\n",
    "from sklearn.model_selection import KFold, GroupKFold\n",
    "from sklearn.metrics import mean_squared_error, roc_auc_score, log_loss\n",
    "\n",
    "folds = GroupKFold(n_splits=5)\n",
    "\n",
    "train_features = [_f for _f in train_data.columns if _f not in excluded_features]\n",
    "print(train_features)\n",
    "oof_clf_preds = np.zeros(train_data.shape[0])\n",
    "sub_clf_preds = np.zeros(test_data.shape[0])\n",
    "for fold_, (trn_, val_) in enumerate(folds.split(y_clf, y_clf, groups=train_data['fullVisitorId'])):\n",
    "    trn_x, trn_y = train_data[train_features].iloc[trn_], y_clf.iloc[trn_]\n",
    "    val_x, val_y = train_data[train_features].iloc[val_], y_clf.iloc[val_]\n",
    "    \n",
    "    clf = lgb.LGBMClassifier(\n",
    "        num_leaves=31,\n",
    "        learning_rate=0.03,\n",
    "        n_estimators=1000,\n",
    "        subsample=.9,\n",
    "        colsample_bytree=.9,\n",
    "        random_state=1\n",
    "    )\n",
    "    clf.fit(\n",
    "        trn_x, trn_y,\n",
    "        eval_set=[(val_x, val_y)],\n",
    "        early_stopping_rounds=50,\n",
    "        verbose=50\n",
    "    )\n",
    "    \n",
    "    oof_clf_preds[val_] = clf.predict_proba(val_x, num_iteration=clf.best_iteration_)[:, 1]\n",
    "    print(roc_auc_score(val_y, oof_clf_preds[val_]))\n",
    "    sub_clf_preds += clf.predict_proba(test_data[train_features], num_iteration=clf.best_iteration_)[:, 1] / folds.n_splits\n",
    "    \n",
    "roc_auc_score(y_clf, oof_clf_preds)"
   ]
  },
  {
   "cell_type": "code",
   "execution_count": null,
   "metadata": {},
   "outputs": [],
   "source": []
  }
 ],
 "metadata": {
  "kernelspec": {
   "display_name": "Python 3",
   "language": "python",
   "name": "python3"
  },
  "language_info": {
   "codemirror_mode": {
    "name": "ipython",
    "version": 3
   },
   "file_extension": ".py",
   "mimetype": "text/x-python",
   "name": "python",
   "nbconvert_exporter": "python",
   "pygments_lexer": "ipython3",
   "version": "3.6.5"
  }
 },
 "nbformat": 4,
 "nbformat_minor": 2
}
