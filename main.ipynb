{
 "cells": [
  {
   "cell_type": "code",
   "execution_count": 1,
   "metadata": {},
   "outputs": [],
   "source": [
    "import numpy as np\n",
    "import pandas as pd\n",
    "import seaborn as sns\n",
    "import matplotlib.pyplot as plt\n",
    "import os\n",
    "%matplotlib inline\n",
    "\n",
    "from pandas.io.json import json_normalize\n",
    "import json\n",
    "import random\n",
    "import warnings\n",
    "warnings.filterwarnings(\"ignore\")\n",
    "from sklearn.metrics import classification_report"
   ]
  },
  {
   "cell_type": "code",
   "execution_count": null,
   "metadata": {},
   "outputs": [],
   "source": []
  },
  {
   "cell_type": "code",
   "execution_count": null,
   "metadata": {},
   "outputs": [],
   "source": []
  },
  {
   "cell_type": "code",
   "execution_count": 2,
   "metadata": {},
   "outputs": [],
   "source": [
    "def load_df(csv_path='data/train.csv', nrows=None):\n",
    "    JSON_COLUMNS = ['device', 'geoNetwork', 'totals', 'trafficSource']\n",
    "    \n",
    "    p = 0.1\n",
    "    df = pd.read_csv(csv_path, \n",
    "                     converters={column: json.loads for column in JSON_COLUMNS}, \n",
    "                     dtype={'fullVisitorId': 'str'}, # Important!!\n",
    "                     skiprows=lambda i: i>0 and random.random() > p)\n",
    "    \n",
    "    for column in JSON_COLUMNS:\n",
    "        column_as_df = json_normalize(df[column])\n",
    "        column_as_df.columns = [\"{}.{}\".format(column, subcolumn) for subcolumn in column_as_df.columns]\n",
    "        df = df.drop(column, axis=1).merge(column_as_df, right_index=True, left_index=True)\n",
    "    print(\"Loaded {}. Shape: {}\".format(os.path.basename(csv_path), df.shape))\n",
    "    return df"
   ]
  },
  {
   "cell_type": "code",
   "execution_count": 3,
   "metadata": {},
   "outputs": [
    {
     "name": "stdout",
     "output_type": "stream",
     "text": [
      "Loaded train.csv. Shape: (90666, 54)\n",
      "Loaded test.csv. Shape: (79785, 53)\n"
     ]
    }
   ],
   "source": [
    "train_data = load_df()\n",
    "test_data = load_df('data/test.csv')"
   ]
  },
  {
   "cell_type": "code",
   "execution_count": 4,
   "metadata": {},
   "outputs": [
    {
     "name": "stdout",
     "output_type": "stream",
     "text": [
      "<class 'pandas.core.frame.DataFrame'>\n",
      "RangeIndex: 90666 entries, 0 to 90665\n",
      "Data columns (total 54 columns):\n",
      "channelGrouping                                      90666 non-null object\n",
      "date                                                 90666 non-null int64\n",
      "fullVisitorId                                        90666 non-null object\n",
      "sessionId                                            90666 non-null object\n",
      "socialEngagementType                                 90666 non-null object\n",
      "visitId                                              90666 non-null int64\n",
      "visitNumber                                          90666 non-null int64\n",
      "visitStartTime                                       90666 non-null int64\n",
      "device.browser                                       90666 non-null object\n",
      "device.browserSize                                   90666 non-null object\n",
      "device.browserVersion                                90666 non-null object\n",
      "device.deviceCategory                                90666 non-null object\n",
      "device.flashVersion                                  90666 non-null object\n",
      "device.isMobile                                      90666 non-null bool\n",
      "device.language                                      90666 non-null object\n",
      "device.mobileDeviceBranding                          90666 non-null object\n",
      "device.mobileDeviceInfo                              90666 non-null object\n",
      "device.mobileDeviceMarketingName                     90666 non-null object\n",
      "device.mobileDeviceModel                             90666 non-null object\n",
      "device.mobileInputSelector                           90666 non-null object\n",
      "device.operatingSystem                               90666 non-null object\n",
      "device.operatingSystemVersion                        90666 non-null object\n",
      "device.screenColors                                  90666 non-null object\n",
      "device.screenResolution                              90666 non-null object\n",
      "geoNetwork.city                                      90666 non-null object\n",
      "geoNetwork.cityId                                    90666 non-null object\n",
      "geoNetwork.continent                                 90666 non-null object\n",
      "geoNetwork.country                                   90666 non-null object\n",
      "geoNetwork.latitude                                  90666 non-null object\n",
      "geoNetwork.longitude                                 90666 non-null object\n",
      "geoNetwork.metro                                     90666 non-null object\n",
      "geoNetwork.networkDomain                             90666 non-null object\n",
      "geoNetwork.networkLocation                           90666 non-null object\n",
      "geoNetwork.region                                    90666 non-null object\n",
      "geoNetwork.subContinent                              90666 non-null object\n",
      "totals.bounces                                       45307 non-null object\n",
      "totals.hits                                          90666 non-null object\n",
      "totals.newVisits                                     70245 non-null object\n",
      "totals.pageviews                                     90659 non-null object\n",
      "totals.transactionRevenue                            1130 non-null object\n",
      "totals.visits                                        90666 non-null object\n",
      "trafficSource.adContent                              1089 non-null object\n",
      "trafficSource.adwordsClickInfo.adNetworkType         2170 non-null object\n",
      "trafficSource.adwordsClickInfo.criteriaParameters    90666 non-null object\n",
      "trafficSource.adwordsClickInfo.gclId                 2180 non-null object\n",
      "trafficSource.adwordsClickInfo.isVideoAd             2170 non-null object\n",
      "trafficSource.adwordsClickInfo.page                  2170 non-null object\n",
      "trafficSource.adwordsClickInfo.slot                  2170 non-null object\n",
      "trafficSource.campaign                               90666 non-null object\n",
      "trafficSource.isTrueDirect                           27661 non-null object\n",
      "trafficSource.keyword                                39882 non-null object\n",
      "trafficSource.medium                                 90666 non-null object\n",
      "trafficSource.referralPath                           33444 non-null object\n",
      "trafficSource.source                                 90666 non-null object\n",
      "dtypes: bool(1), int64(4), object(49)\n",
      "memory usage: 36.7+ MB\n"
     ]
    }
   ],
   "source": [
    "train_data.shape\n",
    "train_data.info()"
   ]
  },
  {
   "cell_type": "code",
   "execution_count": 5,
   "metadata": {},
   "outputs": [],
   "source": [
    "shops_or_not = lambda x : x.total"
   ]
  },
  {
   "cell_type": "code",
   "execution_count": 6,
   "metadata": {},
   "outputs": [
    {
     "data": {
      "text/plain": [
       "85976"
      ]
     },
     "execution_count": 6,
     "metadata": {},
     "output_type": "execute_result"
    }
   ],
   "source": [
    "train_data['fullVisitorId'].nunique()"
   ]
  },
  {
   "cell_type": "code",
   "execution_count": 7,
   "metadata": {},
   "outputs": [],
   "source": [
    "train_data[\"totals.transactionRevenue\"] = train_data[\"totals.transactionRevenue\"].astype('float')\n",
    "y_clf = (train_data['totals.transactionRevenue'].fillna(0) > 0).astype(np.uint8)\n",
    "y_reg = train_data['totals.transactionRevenue'].fillna(0)"
   ]
  },
  {
   "cell_type": "code",
   "execution_count": null,
   "metadata": {},
   "outputs": [],
   "source": []
  },
  {
   "cell_type": "code",
   "execution_count": 8,
   "metadata": {},
   "outputs": [
    {
     "data": {
      "text/plain": [
       "0    89536\n",
       "1     1130\n",
       "Name: totals.transactionRevenue, dtype: int64"
      ]
     },
     "execution_count": 8,
     "metadata": {},
     "output_type": "execute_result"
    }
   ],
   "source": [
    "y_clf.describe()\n",
    "y_clf.value_counts()"
   ]
  },
  {
   "cell_type": "code",
   "execution_count": 9,
   "metadata": {},
   "outputs": [
    {
     "data": {
      "text/plain": [
       "count    9.066600e+04\n",
       "mean     1.517437e+06\n",
       "std      3.081595e+07\n",
       "min      0.000000e+00\n",
       "25%      0.000000e+00\n",
       "50%      0.000000e+00\n",
       "75%      0.000000e+00\n",
       "max      4.280700e+09\n",
       "Name: totals.transactionRevenue, dtype: float64"
      ]
     },
     "execution_count": 9,
     "metadata": {},
     "output_type": "execute_result"
    }
   ],
   "source": [
    "y_reg.describe()\n",
    "# y_reg.value_counts()"
   ]
  },
  {
   "cell_type": "code",
   "execution_count": 10,
   "metadata": {},
   "outputs": [],
   "source": [
    "def date_format(df):\n",
    "    df['date'] = pd.to_datetime(df['date'])\n",
    "    df['vis_date'] = pd.to_datetime(df['visitStartTime'])\n",
    "    df['sess_date_dow'] = df['vis_date'].dt.dayofweek\n",
    "    df['sess_date_hours'] = df['vis_date'].dt.hour\n",
    "    df['sess_date_dom'] = df['vis_date'].dt.day\n",
    "date_format(train_data)\n",
    "date_format(test_data)"
   ]
  },
  {
   "cell_type": "code",
   "execution_count": 11,
   "metadata": {},
   "outputs": [
    {
     "name": "stdout",
     "output_type": "stream",
     "text": [
      "<class 'pandas.core.frame.DataFrame'>\n",
      "RangeIndex: 79785 entries, 0 to 79784\n",
      "Data columns (total 57 columns):\n",
      "channelGrouping                                      79785 non-null object\n",
      "date                                                 79785 non-null datetime64[ns]\n",
      "fullVisitorId                                        79785 non-null object\n",
      "sessionId                                            79785 non-null object\n",
      "socialEngagementType                                 79785 non-null object\n",
      "visitId                                              79785 non-null int64\n",
      "visitNumber                                          79785 non-null int64\n",
      "visitStartTime                                       79785 non-null int64\n",
      "device.browser                                       79785 non-null object\n",
      "device.browserSize                                   79785 non-null object\n",
      "device.browserVersion                                79785 non-null object\n",
      "device.deviceCategory                                79785 non-null object\n",
      "device.flashVersion                                  79785 non-null object\n",
      "device.isMobile                                      79785 non-null bool\n",
      "device.language                                      79785 non-null object\n",
      "device.mobileDeviceBranding                          79785 non-null object\n",
      "device.mobileDeviceInfo                              79785 non-null object\n",
      "device.mobileDeviceMarketingName                     79785 non-null object\n",
      "device.mobileDeviceModel                             79785 non-null object\n",
      "device.mobileInputSelector                           79785 non-null object\n",
      "device.operatingSystem                               79785 non-null object\n",
      "device.operatingSystemVersion                        79785 non-null object\n",
      "device.screenColors                                  79785 non-null object\n",
      "device.screenResolution                              79785 non-null object\n",
      "geoNetwork.city                                      79785 non-null object\n",
      "geoNetwork.cityId                                    79785 non-null object\n",
      "geoNetwork.continent                                 79785 non-null object\n",
      "geoNetwork.country                                   79785 non-null object\n",
      "geoNetwork.latitude                                  79785 non-null object\n",
      "geoNetwork.longitude                                 79785 non-null object\n",
      "geoNetwork.metro                                     79785 non-null object\n",
      "geoNetwork.networkDomain                             79785 non-null object\n",
      "geoNetwork.networkLocation                           79785 non-null object\n",
      "geoNetwork.region                                    79785 non-null object\n",
      "geoNetwork.subContinent                              79785 non-null object\n",
      "totals.bounces                                       41638 non-null object\n",
      "totals.hits                                          79785 non-null object\n",
      "totals.newVisits                                     59776 non-null object\n",
      "totals.pageviews                                     79767 non-null object\n",
      "totals.visits                                        79785 non-null object\n",
      "trafficSource.adContent                              5406 non-null object\n",
      "trafficSource.adwordsClickInfo.adNetworkType         5361 non-null object\n",
      "trafficSource.adwordsClickInfo.criteriaParameters    79785 non-null object\n",
      "trafficSource.adwordsClickInfo.gclId                 5366 non-null object\n",
      "trafficSource.adwordsClickInfo.isVideoAd             5361 non-null object\n",
      "trafficSource.adwordsClickInfo.page                  5361 non-null object\n",
      "trafficSource.adwordsClickInfo.slot                  5361 non-null object\n",
      "trafficSource.campaign                               79785 non-null object\n",
      "trafficSource.isTrueDirect                           25898 non-null object\n",
      "trafficSource.keyword                                40964 non-null object\n",
      "trafficSource.medium                                 79785 non-null object\n",
      "trafficSource.referralPath                           23545 non-null object\n",
      "trafficSource.source                                 79785 non-null object\n",
      "vis_date                                             79785 non-null datetime64[ns]\n",
      "sess_date_dow                                        79785 non-null int64\n",
      "sess_date_hours                                      79785 non-null int64\n",
      "sess_date_dom                                        79785 non-null int64\n",
      "dtypes: bool(1), datetime64[ns](2), int64(6), object(48)\n",
      "memory usage: 34.2+ MB\n"
     ]
    }
   ],
   "source": [
    "test_data.info()"
   ]
  },
  {
   "cell_type": "code",
   "execution_count": 12,
   "metadata": {},
   "outputs": [],
   "source": [
    "excluded_features = [\n",
    "    'date', 'fullVisitorId', 'sessionId', 'totals.transactionRevenue', \n",
    "    'visitId', 'visitStartTime', 'non_zero_proba', 'vis_date'\n",
    "]\n",
    "\n",
    "categorical_features = [\n",
    "    _f for _f in train_data.columns\n",
    "    if (_f not in excluded_features) & (train_data[_f].dtype == 'object')\n",
    "]"
   ]
  },
  {
   "cell_type": "code",
   "execution_count": 13,
   "metadata": {},
   "outputs": [],
   "source": [
    "if 'totals.transactionRevenue' in train_data.columns:\n",
    "    del train_data['totals.transactionRevenue']\n",
    "\n",
    "if 'totals.transactionRevenue' in test_data.columns:\n",
    "    del test_data['totals.transactionRevenue']"
   ]
  },
  {
   "cell_type": "code",
   "execution_count": 14,
   "metadata": {},
   "outputs": [],
   "source": [
    "for f in categorical_features:\n",
    "    train_data[f], indexer = pd.factorize(train_data[f])\n",
    "    test_data[f] = indexer.get_indexer(test_data[f])"
   ]
  },
  {
   "cell_type": "code",
   "execution_count": 19,
   "metadata": {},
   "outputs": [
    {
     "name": "stdout",
     "output_type": "stream",
     "text": [
      "['channelGrouping', 'socialEngagementType', 'visitNumber', 'device.browser', 'device.browserSize', 'device.browserVersion', 'device.deviceCategory', 'device.flashVersion', 'device.isMobile', 'device.language', 'device.mobileDeviceBranding', 'device.mobileDeviceInfo', 'device.mobileDeviceMarketingName', 'device.mobileDeviceModel', 'device.mobileInputSelector', 'device.operatingSystem', 'device.operatingSystemVersion', 'device.screenColors', 'device.screenResolution', 'geoNetwork.city', 'geoNetwork.cityId', 'geoNetwork.continent', 'geoNetwork.country', 'geoNetwork.latitude', 'geoNetwork.longitude', 'geoNetwork.metro', 'geoNetwork.networkDomain', 'geoNetwork.networkLocation', 'geoNetwork.region', 'geoNetwork.subContinent', 'totals.bounces', 'totals.hits', 'totals.newVisits', 'totals.pageviews', 'totals.visits', 'trafficSource.adContent', 'trafficSource.adwordsClickInfo.adNetworkType', 'trafficSource.adwordsClickInfo.criteriaParameters', 'trafficSource.adwordsClickInfo.gclId', 'trafficSource.adwordsClickInfo.isVideoAd', 'trafficSource.adwordsClickInfo.page', 'trafficSource.adwordsClickInfo.slot', 'trafficSource.campaign', 'trafficSource.isTrueDirect', 'trafficSource.keyword', 'trafficSource.medium', 'trafficSource.referralPath', 'trafficSource.source', 'sess_date_dow', 'sess_date_hours', 'sess_date_dom']\n",
      "Training until validation scores don't improve for 50 rounds.\n",
      "[50]\tvalid_0's binary_logloss: 0.031491\n",
      "[100]\tvalid_0's binary_logloss: 0.0291708\n",
      "[150]\tvalid_0's binary_logloss: 0.0286912\n",
      "[200]\tvalid_0's binary_logloss: 0.0287335\n",
      "Early stopping, best iteration is:\n",
      "[179]\tvalid_0's binary_logloss: 0.0286297\n",
      "0.9857049336730034\n",
      "Training until validation scores don't improve for 50 rounds.\n",
      "[50]\tvalid_0's binary_logloss: 0.0303582\n",
      "[100]\tvalid_0's binary_logloss: 0.0280319\n",
      "[150]\tvalid_0's binary_logloss: 0.0276671\n",
      "[200]\tvalid_0's binary_logloss: 0.0276809\n",
      "Early stopping, best iteration is:\n",
      "[166]\tvalid_0's binary_logloss: 0.0276219\n",
      "0.985390286745132\n",
      "Training until validation scores don't improve for 50 rounds.\n",
      "[50]\tvalid_0's binary_logloss: 0.0324733\n",
      "[100]\tvalid_0's binary_logloss: 0.0300764\n",
      "[150]\tvalid_0's binary_logloss: 0.0297426\n",
      "Early stopping, best iteration is:\n",
      "[143]\tvalid_0's binary_logloss: 0.0297215\n",
      "0.9859039200775055\n",
      "Training until validation scores don't improve for 50 rounds.\n",
      "[50]\tvalid_0's binary_logloss: 0.0329209\n",
      "[100]\tvalid_0's binary_logloss: 0.0304559\n",
      "[150]\tvalid_0's binary_logloss: 0.0302659\n",
      "Early stopping, best iteration is:\n",
      "[140]\tvalid_0's binary_logloss: 0.0302353\n",
      "0.9801748605105005\n",
      "Training until validation scores don't improve for 50 rounds.\n",
      "[50]\tvalid_0's binary_logloss: 0.0324362\n",
      "[100]\tvalid_0's binary_logloss: 0.030627\n",
      "[150]\tvalid_0's binary_logloss: 0.0305719\n",
      "Early stopping, best iteration is:\n",
      "[110]\tvalid_0's binary_logloss: 0.0305235\n",
      "0.9828964515449473\n"
     ]
    }
   ],
   "source": [
    "import lightgbm as lgb\n",
    "from sklearn.model_selection import KFold, GroupKFold\n",
    "from sklearn.metrics import mean_squared_error, roc_auc_score, log_loss, roc_curve, precision_recall_curve\n",
    "\n",
    "folds = GroupKFold(n_splits=5)\n",
    "\n",
    "train_features = [_f for _f in train_data.columns if _f not in excluded_features]\n",
    "print(train_features)\n",
    "oof_clf_preds = np.zeros(train_data.shape[0])\n",
    "sub_clf_preds = np.zeros(test_data.shape[0])\n",
    "for fold_, (trn_, val_) in enumerate(folds.split(y_clf, y_clf, groups=train_data['fullVisitorId'])):\n",
    "    trn_x, trn_y = train_data[train_features].iloc[trn_], y_clf.iloc[trn_]\n",
    "    val_x, val_y = train_data[train_features].iloc[val_], y_clf.iloc[val_]\n",
    "    \n",
    "    clf = lgb.LGBMClassifier(\n",
    "        num_leaves=31,\n",
    "        learning_rate=0.03,\n",
    "        n_estimators=1000,\n",
    "        subsample=.9,\n",
    "        colsample_bytree=.9,\n",
    "        random_state=1\n",
    "    )\n",
    "    clf.fit(\n",
    "        trn_x, trn_y,\n",
    "        eval_set=[(val_x, val_y)],\n",
    "        early_stopping_rounds=50,\n",
    "        verbose=50\n",
    "    )\n",
    "    \n",
    "    oof_clf_preds[val_] = clf.predict_proba(val_x, num_iteration=clf.best_iteration_)[:, 1]\n",
    "    print(roc_auc_score(val_y, oof_clf_preds[val_]))\n",
    "    sub_clf_preds += clf.predict_proba(test_data[train_features], num_iteration=clf.best_iteration_)[:, 1] / folds.n_splits\n",
    "\n",
    "\n"
   ]
  },
  {
   "cell_type": "code",
   "execution_count": 26,
   "metadata": {},
   "outputs": [
    {
     "data": {
      "image/png": "[encoded data removed]",
      "text/plain": [
       "<Figure size 1080x576 with 2 Axes>"
      ]
     },
     "metadata": {},
     "output_type": "display_data"
    },
    {
     "name": "stderr",
     "output_type": "stream",
     "text": [
      "No handles with labels found to put in legend.\n"
     ]
    },
    {
     "data": {
      "image/png": "[encoded data removed]",
      "text/plain": [
       "<Figure size 432x288 with 1 Axes>"
      ]
     },
     "metadata": {},
     "output_type": "display_data"
    }
   ],
   "source": [
    "fig = plt.figure(figsize=(15,8))\n",
    "ax1 = fig.add_subplot(1,2,1)\n",
    "ax1.set_xlim([-0.05,1.05])\n",
    "ax1.set_ylim([-0.05,1.05])\n",
    "ax1.set_xlabel('Recall')\n",
    "ax1.set_ylabel('Precision')\n",
    "ax1.set_title('PR Curve')\n",
    "\n",
    "ax2 = fig.add_subplot(1,2,2)\n",
    "ax2.set_xlim([-0.05,1.05])\n",
    "ax2.set_ylim([-0.05,1.05])\n",
    "ax2.set_xlabel('False Positive Rate')\n",
    "ax2.set_ylabel('True Positive Rate')\n",
    "ax2.set_title('ROC Curve')\n",
    "\n",
    "\n",
    "fpr, tpr, _ = roc_curve(y_clf,  oof_clf_preds)    \n",
    "auc = roc_auc_score(y_clf, oof_clf_preds)\n",
    "p,r,_ = precision_recall_curve(y_clf,oof_clf_preds)\n",
    "\n",
    "ax1.plot(r,p)\n",
    "ax2.plot(fpr, tpr)\n",
    "\n",
    "plt.plot(fpr,tpr,label=\"data 1, auc=\"+str(auc))\n",
    "plt.legend(loc=4)\n",
    "plt.show()\n",
    "\n",
    "plt.plot(p,r)\n",
    "plt.legend(loc=4)\n",
    "plt.show()"
   ]
  },
  {
   "cell_type": "code",
   "execution_count": null,
   "metadata": {},
   "outputs": [],
   "source": [
    "oof_clf_preds.shape"
   ]
  },
  {
   "cell_type": "code",
   "execution_count": null,
   "metadata": {},
   "outputs": [],
   "source": [
    "sum(oof_clf_preds)"
   ]
  },
  {
   "cell_type": "code",
   "execution_count": null,
   "metadata": {},
   "outputs": [],
   "source": [
    "print(classification_report(y_clf, oof_clf_preds))"
   ]
  },
  {
   "cell_type": "code",
   "execution_count": null,
   "metadata": {},
   "outputs": [],
   "source": [
    "from scipy import stats"
   ]
  },
  {
   "cell_type": "code",
   "execution_count": null,
   "metadata": {},
   "outputs": [],
   "source": [
    "print(stats.describe(oof_clf_preds))"
   ]
  },
  {
   "cell_type": "code",
   "execution_count": null,
   "metadata": {},
   "outputs": [],
   "source": [
    "oof_clf_preds.min()"
   ]
  },
  {
   "cell_type": "code",
   "execution_count": null,
   "metadata": {},
   "outputs": [],
   "source": [
    "oof_clf_preds.max()"
   ]
  },
  {
   "cell_type": "code",
   "execution_count": null,
   "metadata": {},
   "outputs": [],
   "source": [
    "from sklearn.metrics import precision_recall_curve"
   ]
  },
  {
   "cell_type": "code",
   "execution_count": null,
   "metadata": {},
   "outputs": [],
   "source": [
    "precision, recall, thresholds = precision_recall_curve(y_clf, oof_clf_preds)"
   ]
  },
  {
   "cell_type": "code",
   "execution_count": null,
   "metadata": {},
   "outputs": [],
   "source": [
    "train_data['non_zero_proba'] = oof_clf_preds\n",
    "test_data['non_zero_proba'] = sub_clf_preds"
   ]
  },
  {
   "cell_type": "code",
   "execution_count": null,
   "metadata": {},
   "outputs": [],
   "source": [
    "train_features = [_f for _f in train_data.columns if _f not in excluded_features] + ['non_zero_proba']\n",
    "print(train_features)\n",
    "\n",
    "oof_reg_preds = np.zeros(train_data.shape[0])\n",
    "sub_reg_preds = np.zeros(test_data.shape[0])\n",
    "importances = pd.DataFrame()\n",
    "\n",
    "for fold_, (trn_, val_) in enumerate(folds.split(y_reg, y_reg, groups=train_data['fullVisitorId'])):\n",
    "    trn_x, trn_y = train_data[train_features].iloc[trn_], y_reg.iloc[trn_].fillna(0)\n",
    "    val_x, val_y = train_data[train_features].iloc[val_], y_reg.iloc[val_].fillna(0)\n",
    "    \n",
    "    reg = lgb.LGBMRegressor(\n",
    "        num_leaves=31,\n",
    "        learning_rate=0.03,\n",
    "        n_estimators=1000,\n",
    "        subsample=.9,\n",
    "        colsample_bytree=.9,\n",
    "        random_state=1\n",
    "    )\n",
    "    reg.fit(\n",
    "        trn_x, np.log1p(trn_y),\n",
    "        eval_set=[(val_x, np.log1p(val_y))],\n",
    "        early_stopping_rounds=50,\n",
    "        verbose=50\n",
    "    )\n",
    "    imp_df = pd.DataFrame()\n",
    "    imp_df['feature'] = train_features\n",
    "    imp_df['gain'] = reg.booster_.feature_importance(importance_type='gain')\n",
    "    \n",
    "    imp_df['fold'] = fold_ + 1\n",
    "    importances = pd.concat([importances, imp_df], axis=0, sort=False)\n",
    "    \n",
    "    oof_reg_preds[val_] = reg.predict(val_x, num_iteration=reg.best_iteration_)\n",
    "    oof_reg_preds[oof_reg_preds < 0] = 0\n",
    "    _preds = reg.predict(test_data[train_features], num_iteration=reg.best_iteration_)\n",
    "    _preds[_preds < 0] = 0\n",
    "    sub_reg_preds += np.expm1(_preds) / folds.n_splits\n",
    "    \n",
    "mean_squared_error(np.log1p(y_reg.fillna(0)), oof_reg_preds) ** .5"
   ]
  },
  {
   "cell_type": "code",
   "execution_count": null,
   "metadata": {},
   "outputs": [],
   "source": [
    "imp_df"
   ]
  },
  {
   "cell_type": "code",
   "execution_count": null,
   "metadata": {},
   "outputs": [],
   "source": [
    "importances"
   ]
  },
  {
   "cell_type": "code",
   "execution_count": null,
   "metadata": {},
   "outputs": [],
   "source": [
    "importances['gain_log'] = np.log1p(importances['gain'])\n",
    "mean_gain = importances[['gain', 'feature']].groupby('feature').mean()\n",
    "importances['mean_gain'] = importances['feature'].map(mean_gain['gain'])\n",
    "\n",
    "plt.figure(figsize=(8, 12))\n",
    "sns.barplot(x='gain_log', y='feature', data=importances.sort_values('mean_gain', ascending=False))"
   ]
  },
  {
   "cell_type": "code",
   "execution_count": null,
   "metadata": {},
   "outputs": [],
   "source": []
  },
  {
   "cell_type": "code",
   "execution_count": null,
   "metadata": {},
   "outputs": [],
   "source": []
  }
 ],
 "metadata": {
  "kernelspec": {
   "display_name": "Python 3",
   "language": "python",
   "name": "python3"
  },
  "language_info": {
   "codemirror_mode": {
    "name": "ipython",
    "version": 3
   },
   "file_extension": ".py",
   "mimetype": "text/x-python",
   "name": "python",
   "nbconvert_exporter": "python",
   "pygments_lexer": "ipython3",
   "version": "3.5.2"
  }
 },
 "nbformat": 4,
 "nbformat_minor": 2
}
