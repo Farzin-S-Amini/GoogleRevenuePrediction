{
 "cells": [
  {
   "cell_type": "code",
   "execution_count": 1,
   "metadata": {},
   "outputs": [],
   "source": [
    "import numpy as np\n",
    "import pandas as pd\n",
    "import seaborn as sns\n",
    "import matplotlib.pyplot as plt\n",
    "import os\n",
    "%matplotlib inline\n",
    "\n",
    "from pandas.io.json import json_normalize\n",
    "import json\n",
    "import random\n",
    "import warnings\n",
    "warnings.filterwarnings(\"ignore\")\n",
    "from sklearn.metrics import classification_report"
   ]
  },
  {
   "cell_type": "code",
   "execution_count": null,
   "metadata": {},
   "outputs": [],
   "source": []
  },
  {
   "cell_type": "code",
   "execution_count": null,
   "metadata": {},
   "outputs": [],
   "source": []
  },
  {
   "cell_type": "code",
   "execution_count": 2,
   "metadata": {},
   "outputs": [],
   "source": [
    "def load_df(csv_path='data/train.csv', nrows=None):\n",
    "    JSON_COLUMNS = ['device', 'geoNetwork', 'totals', 'trafficSource']\n",
    "    \n",
    "    p = 0.1\n",
    "    df = pd.read_csv(csv_path, \n",
    "                     converters={column: json.loads for column in JSON_COLUMNS}, \n",
    "                     dtype={'fullVisitorId': 'str'}, # Important!!\n",
    "                     skiprows=lambda i: i>0 and random.random() > p)\n",
    "    \n",
    "    for column in JSON_COLUMNS:\n",
    "        column_as_df = json_normalize(df[column])\n",
    "        column_as_df.columns = [\"{}.{}\".format(column, subcolumn) for subcolumn in column_as_df.columns]\n",
    "        df = df.drop(column, axis=1).merge(column_as_df, right_index=True, left_index=True)\n",
    "    print(\"Loaded {}. Shape: {}\".format(os.path.basename(csv_path), df.shape))\n",
    "    return df"
   ]
  },
  {
   "cell_type": "code",
   "execution_count": 3,
   "metadata": {},
   "outputs": [
    {
     "name": "stdout",
     "output_type": "stream",
     "text": [
      "Loaded train.csv. Shape: (89849, 54)\n",
      "Loaded test.csv. Shape: (80446, 53)\n"
     ]
    }
   ],
   "source": [
    "train_data = load_df()\n",
    "test_data = load_df('data/test.csv')"
   ]
  },
  {
   "cell_type": "code",
   "execution_count": 4,
   "metadata": {},
   "outputs": [
    {
     "name": "stdout",
     "output_type": "stream",
     "text": [
      "<class 'pandas.core.frame.DataFrame'>\n",
      "RangeIndex: 89849 entries, 0 to 89848\n",
      "Data columns (total 54 columns):\n",
      "channelGrouping                                      89849 non-null object\n",
      "date                                                 89849 non-null int64\n",
      "fullVisitorId                                        89849 non-null object\n",
      "sessionId                                            89849 non-null object\n",
      "socialEngagementType                                 89849 non-null object\n",
      "visitId                                              89849 non-null int64\n",
      "visitNumber                                          89849 non-null int64\n",
      "visitStartTime                                       89849 non-null int64\n",
      "device.browser                                       89849 non-null object\n",
      "device.browserSize                                   89849 non-null object\n",
      "device.browserVersion                                89849 non-null object\n",
      "device.deviceCategory                                89849 non-null object\n",
      "device.flashVersion                                  89849 non-null object\n",
      "device.isMobile                                      89849 non-null bool\n",
      "device.language                                      89849 non-null object\n",
      "device.mobileDeviceBranding                          89849 non-null object\n",
      "device.mobileDeviceInfo                              89849 non-null object\n",
      "device.mobileDeviceMarketingName                     89849 non-null object\n",
      "device.mobileDeviceModel                             89849 non-null object\n",
      "device.mobileInputSelector                           89849 non-null object\n",
      "device.operatingSystem                               89849 non-null object\n",
      "device.operatingSystemVersion                        89849 non-null object\n",
      "device.screenColors                                  89849 non-null object\n",
      "device.screenResolution                              89849 non-null object\n",
      "geoNetwork.city                                      89849 non-null object\n",
      "geoNetwork.cityId                                    89849 non-null object\n",
      "geoNetwork.continent                                 89849 non-null object\n",
      "geoNetwork.country                                   89849 non-null object\n",
      "geoNetwork.latitude                                  89849 non-null object\n",
      "geoNetwork.longitude                                 89849 non-null object\n",
      "geoNetwork.metro                                     89849 non-null object\n",
      "geoNetwork.networkDomain                             89849 non-null object\n",
      "geoNetwork.networkLocation                           89849 non-null object\n",
      "geoNetwork.region                                    89849 non-null object\n",
      "geoNetwork.subContinent                              89849 non-null object\n",
      "totals.bounces                                       44696 non-null object\n",
      "totals.hits                                          89849 non-null object\n",
      "totals.newVisits                                     69895 non-null object\n",
      "totals.pageviews                                     89842 non-null object\n",
      "totals.transactionRevenue                            1153 non-null object\n",
      "totals.visits                                        89849 non-null object\n",
      "trafficSource.adContent                              1095 non-null object\n",
      "trafficSource.adwordsClickInfo.adNetworkType         2222 non-null object\n",
      "trafficSource.adwordsClickInfo.criteriaParameters    89849 non-null object\n",
      "trafficSource.adwordsClickInfo.gclId                 2232 non-null object\n",
      "trafficSource.adwordsClickInfo.isVideoAd             2222 non-null object\n",
      "trafficSource.adwordsClickInfo.page                  2222 non-null object\n",
      "trafficSource.adwordsClickInfo.slot                  2222 non-null object\n",
      "trafficSource.campaign                               89849 non-null object\n",
      "trafficSource.isTrueDirect                           27272 non-null object\n",
      "trafficSource.keyword                                39879 non-null object\n",
      "trafficSource.medium                                 89849 non-null object\n",
      "trafficSource.referralPath                           32919 non-null object\n",
      "trafficSource.source                                 89849 non-null object\n",
      "dtypes: bool(1), int64(4), object(49)\n",
      "memory usage: 36.4+ MB\n"
     ]
    }
   ],
   "source": [
    "train_data.shape\n",
    "train_data.info()"
   ]
  },
  {
   "cell_type": "code",
   "execution_count": 5,
   "metadata": {},
   "outputs": [],
   "source": [
    "shops_or_not = lambda x : x.total"
   ]
  },
  {
   "cell_type": "code",
   "execution_count": 6,
   "metadata": {},
   "outputs": [
    {
     "data": {
      "text/plain": [
       "85309"
      ]
     },
     "execution_count": 6,
     "metadata": {},
     "output_type": "execute_result"
    }
   ],
   "source": [
    "train_data['fullVisitorId'].nunique()"
   ]
  },
  {
   "cell_type": "code",
   "execution_count": 7,
   "metadata": {},
   "outputs": [],
   "source": [
    "train_data[\"totals.transactionRevenue\"] = train_data[\"totals.transactionRevenue\"].astype('float')\n",
    "y_clf = (train_data['totals.transactionRevenue'].fillna(0) > 0).astype(np.uint8)\n",
    "y_reg = train_data['totals.transactionRevenue'].fillna(0)"
   ]
  },
  {
   "cell_type": "code",
   "execution_count": 8,
   "metadata": {},
   "outputs": [
    {
     "ename": "AttributeError",
     "evalue": "'Series' object has no attribute 'info'",
     "output_type": "error",
     "traceback": [
      "\u001b[0;31m---------------------------------------------------------------------------\u001b[0m",
      "\u001b[0;31mAttributeError\u001b[0m                            Traceback (most recent call last)",
      "\u001b[0;32m<ipython-input-8-502c483ae935>\u001b[0m in \u001b[0;36m<module>\u001b[0;34m()\u001b[0m\n\u001b[0;32m----> 1\u001b[0;31m \u001b[0my_reg\u001b[0m\u001b[0;34m.\u001b[0m\u001b[0minfo\u001b[0m\u001b[0;34m(\u001b[0m\u001b[0;34m)\u001b[0m\u001b[0;34m\u001b[0m\u001b[0m\n\u001b[0m",
      "\u001b[0;32m~/.local/lib/python3.5/site-packages/pandas/core/generic.py\u001b[0m in \u001b[0;36m__getattr__\u001b[0;34m(self, name)\u001b[0m\n\u001b[1;32m   4374\u001b[0m             \u001b[0;32mif\u001b[0m \u001b[0mself\u001b[0m\u001b[0;34m.\u001b[0m\u001b[0m_info_axis\u001b[0m\u001b[0;34m.\u001b[0m\u001b[0m_can_hold_identifiers_and_holds_name\u001b[0m\u001b[0;34m(\u001b[0m\u001b[0mname\u001b[0m\u001b[0;34m)\u001b[0m\u001b[0;34m:\u001b[0m\u001b[0;34m\u001b[0m\u001b[0m\n\u001b[1;32m   4375\u001b[0m                 \u001b[0;32mreturn\u001b[0m \u001b[0mself\u001b[0m\u001b[0;34m[\u001b[0m\u001b[0mname\u001b[0m\u001b[0;34m]\u001b[0m\u001b[0;34m\u001b[0m\u001b[0m\n\u001b[0;32m-> 4376\u001b[0;31m             \u001b[0;32mreturn\u001b[0m \u001b[0mobject\u001b[0m\u001b[0;34m.\u001b[0m\u001b[0m__getattribute__\u001b[0m\u001b[0;34m(\u001b[0m\u001b[0mself\u001b[0m\u001b[0;34m,\u001b[0m \u001b[0mname\u001b[0m\u001b[0;34m)\u001b[0m\u001b[0;34m\u001b[0m\u001b[0m\n\u001b[0m\u001b[1;32m   4377\u001b[0m \u001b[0;34m\u001b[0m\u001b[0m\n\u001b[1;32m   4378\u001b[0m     \u001b[0;32mdef\u001b[0m \u001b[0m__setattr__\u001b[0m\u001b[0;34m(\u001b[0m\u001b[0mself\u001b[0m\u001b[0;34m,\u001b[0m \u001b[0mname\u001b[0m\u001b[0;34m,\u001b[0m \u001b[0mvalue\u001b[0m\u001b[0;34m)\u001b[0m\u001b[0;34m:\u001b[0m\u001b[0;34m\u001b[0m\u001b[0m\n",
      "\u001b[0;31mAttributeError\u001b[0m: 'Series' object has no attribute 'info'"
     ]
    }
   ],
   "source": []
  },
  {
   "cell_type": "code",
   "execution_count": 9,
   "metadata": {},
   "outputs": [
    {
     "data": {
      "text/plain": [
       "0    88696\n",
       "1     1153\n",
       "Name: totals.transactionRevenue, dtype: int64"
      ]
     },
     "execution_count": 9,
     "metadata": {},
     "output_type": "execute_result"
    }
   ],
   "source": [
    "y_clf.describe()\n",
    "y_clf.value_counts()"
   ]
  },
  {
   "cell_type": "code",
   "execution_count": 10,
   "metadata": {},
   "outputs": [
    {
     "data": {
      "text/plain": [
       "count    8.984900e+04\n",
       "mean     1.403602e+06\n",
       "std      2.959661e+07\n",
       "min      0.000000e+00\n",
       "25%      0.000000e+00\n",
       "50%      0.000000e+00\n",
       "75%      0.000000e+00\n",
       "max      3.022200e+09\n",
       "Name: totals.transactionRevenue, dtype: float64"
      ]
     },
     "execution_count": 10,
     "metadata": {},
     "output_type": "execute_result"
    }
   ],
   "source": [
    "y_reg.describe()\n",
    "# y_reg.value_counts()"
   ]
  },
  {
   "cell_type": "code",
   "execution_count": 11,
   "metadata": {},
   "outputs": [],
   "source": [
    "def date_format(df):\n",
    "    df['date'] = pd.to_datetime(df['date'])\n",
    "    df['vis_date'] = pd.to_datetime(df['visitStartTime'])\n",
    "    df['sess_date_dow'] = df['vis_date'].dt.dayofweek\n",
    "    df['sess_date_hours'] = df['vis_date'].dt.hour\n",
    "    df['sess_date_dom'] = df['vis_date'].dt.day\n",
    "date_format(train_data)\n",
    "date_format(test_data)"
   ]
  },
  {
   "cell_type": "code",
   "execution_count": 12,
   "metadata": {},
   "outputs": [
    {
     "name": "stdout",
     "output_type": "stream",
     "text": [
      "<class 'pandas.core.frame.DataFrame'>\n",
      "RangeIndex: 80446 entries, 0 to 80445\n",
      "Data columns (total 57 columns):\n",
      "channelGrouping                                      80446 non-null object\n",
      "date                                                 80446 non-null datetime64[ns]\n",
      "fullVisitorId                                        80446 non-null object\n",
      "sessionId                                            80446 non-null object\n",
      "socialEngagementType                                 80446 non-null object\n",
      "visitId                                              80446 non-null int64\n",
      "visitNumber                                          80446 non-null int64\n",
      "visitStartTime                                       80446 non-null int64\n",
      "device.browser                                       80446 non-null object\n",
      "device.browserSize                                   80446 non-null object\n",
      "device.browserVersion                                80446 non-null object\n",
      "device.deviceCategory                                80446 non-null object\n",
      "device.flashVersion                                  80446 non-null object\n",
      "device.isMobile                                      80446 non-null bool\n",
      "device.language                                      80446 non-null object\n",
      "device.mobileDeviceBranding                          80446 non-null object\n",
      "device.mobileDeviceInfo                              80446 non-null object\n",
      "device.mobileDeviceMarketingName                     80446 non-null object\n",
      "device.mobileDeviceModel                             80446 non-null object\n",
      "device.mobileInputSelector                           80446 non-null object\n",
      "device.operatingSystem                               80446 non-null object\n",
      "device.operatingSystemVersion                        80446 non-null object\n",
      "device.screenColors                                  80446 non-null object\n",
      "device.screenResolution                              80446 non-null object\n",
      "geoNetwork.city                                      80446 non-null object\n",
      "geoNetwork.cityId                                    80446 non-null object\n",
      "geoNetwork.continent                                 80446 non-null object\n",
      "geoNetwork.country                                   80446 non-null object\n",
      "geoNetwork.latitude                                  80446 non-null object\n",
      "geoNetwork.longitude                                 80446 non-null object\n",
      "geoNetwork.metro                                     80446 non-null object\n",
      "geoNetwork.networkDomain                             80446 non-null object\n",
      "geoNetwork.networkLocation                           80446 non-null object\n",
      "geoNetwork.region                                    80446 non-null object\n",
      "geoNetwork.subContinent                              80446 non-null object\n",
      "totals.bounces                                       42240 non-null object\n",
      "totals.hits                                          80446 non-null object\n",
      "totals.newVisits                                     60462 non-null object\n",
      "totals.pageviews                                     80436 non-null object\n",
      "totals.visits                                        80446 non-null object\n",
      "trafficSource.adContent                              5404 non-null object\n",
      "trafficSource.adwordsClickInfo.adNetworkType         5406 non-null object\n",
      "trafficSource.adwordsClickInfo.criteriaParameters    80446 non-null object\n",
      "trafficSource.adwordsClickInfo.gclId                 5409 non-null object\n",
      "trafficSource.adwordsClickInfo.isVideoAd             5406 non-null object\n",
      "trafficSource.adwordsClickInfo.page                  5406 non-null object\n",
      "trafficSource.adwordsClickInfo.slot                  5406 non-null object\n",
      "trafficSource.campaign                               80446 non-null object\n",
      "trafficSource.isTrueDirect                           26079 non-null object\n",
      "trafficSource.keyword                                41372 non-null object\n",
      "trafficSource.medium                                 80446 non-null object\n",
      "trafficSource.referralPath                           23554 non-null object\n",
      "trafficSource.source                                 80446 non-null object\n",
      "vis_date                                             80446 non-null datetime64[ns]\n",
      "sess_date_dow                                        80446 non-null int64\n",
      "sess_date_hours                                      80446 non-null int64\n",
      "sess_date_dom                                        80446 non-null int64\n",
      "dtypes: bool(1), datetime64[ns](2), int64(6), object(48)\n",
      "memory usage: 34.4+ MB\n"
     ]
    }
   ],
   "source": [
    "test_data.info()"
   ]
  },
  {
   "cell_type": "code",
   "execution_count": 14,
   "metadata": {},
   "outputs": [],
   "source": [
    "excluded_features = [\n",
    "    'date', 'fullVisitorId', 'sessionId', 'totals.transactionRevenue', \n",
    "    'visitId', 'visitStartTime', 'non_zero_proba', 'vis_date'\n",
    "]\n",
    "\n",
    "categorical_features = [\n",
    "    _f for _f in train_data.columns\n",
    "    if (_f not in excluded_features) & (train_data[_f].dtype == 'object')\n",
    "]"
   ]
  },
  {
   "cell_type": "code",
   "execution_count": 15,
   "metadata": {},
   "outputs": [],
   "source": [
    "if 'totals.transactionRevenue' in train_data.columns:\n",
    "    del train_data['totals.transactionRevenue']\n",
    "\n",
    "if 'totals.transactionRevenue' in test_data.columns:\n",
    "    del test_data['totals.transactionRevenue']"
   ]
  },
  {
   "cell_type": "code",
   "execution_count": 16,
   "metadata": {},
   "outputs": [],
   "source": [
    "for f in categorical_features:\n",
    "    train_data[f], indexer = pd.factorize(train_data[f])\n",
    "    test_data[f] = indexer.get_indexer(test_data[f])"
   ]
  },
  {
   "cell_type": "code",
   "execution_count": 17,
   "metadata": {},
   "outputs": [
    {
     "name": "stdout",
     "output_type": "stream",
     "text": [
      "['channelGrouping', 'socialEngagementType', 'visitNumber', 'device.browser', 'device.browserSize', 'device.browserVersion', 'device.deviceCategory', 'device.flashVersion', 'device.isMobile', 'device.language', 'device.mobileDeviceBranding', 'device.mobileDeviceInfo', 'device.mobileDeviceMarketingName', 'device.mobileDeviceModel', 'device.mobileInputSelector', 'device.operatingSystem', 'device.operatingSystemVersion', 'device.screenColors', 'device.screenResolution', 'geoNetwork.city', 'geoNetwork.cityId', 'geoNetwork.continent', 'geoNetwork.country', 'geoNetwork.latitude', 'geoNetwork.longitude', 'geoNetwork.metro', 'geoNetwork.networkDomain', 'geoNetwork.networkLocation', 'geoNetwork.region', 'geoNetwork.subContinent', 'totals.bounces', 'totals.hits', 'totals.newVisits', 'totals.pageviews', 'totals.visits', 'trafficSource.adContent', 'trafficSource.adwordsClickInfo.adNetworkType', 'trafficSource.adwordsClickInfo.criteriaParameters', 'trafficSource.adwordsClickInfo.gclId', 'trafficSource.adwordsClickInfo.isVideoAd', 'trafficSource.adwordsClickInfo.page', 'trafficSource.adwordsClickInfo.slot', 'trafficSource.campaign', 'trafficSource.isTrueDirect', 'trafficSource.keyword', 'trafficSource.medium', 'trafficSource.referralPath', 'trafficSource.source', 'sess_date_dow', 'sess_date_hours', 'sess_date_dom']\n",
      "Training until validation scores don't improve for 50 rounds.\n",
      "[50]\tvalid_0's binary_logloss: 0.0340837\n",
      "[100]\tvalid_0's binary_logloss: 0.0322507\n",
      "[150]\tvalid_0's binary_logloss: 0.0324529\n",
      "Early stopping, best iteration is:\n",
      "[103]\tvalid_0's binary_logloss: 0.0322278\n",
      "0.5746177714566857\n",
      "Training until validation scores don't improve for 50 rounds.\n",
      "[50]\tvalid_0's binary_logloss: 0.0332318\n",
      "[100]\tvalid_0's binary_logloss: 0.0307619\n",
      "[150]\tvalid_0's binary_logloss: 0.030372\n",
      "Early stopping, best iteration is:\n",
      "[143]\tvalid_0's binary_logloss: 0.0303573\n",
      "0.591428988310607\n",
      "Training until validation scores don't improve for 50 rounds.\n",
      "[50]\tvalid_0's binary_logloss: 0.0345417\n",
      "[100]\tvalid_0's binary_logloss: 0.0319641\n",
      "[150]\tvalid_0's binary_logloss: 0.031567\n",
      "[200]\tvalid_0's binary_logloss: 0.0318257\n",
      "Early stopping, best iteration is:\n",
      "[151]\tvalid_0's binary_logloss: 0.0315603\n",
      "0.5647337078945013\n",
      "Training until validation scores don't improve for 50 rounds.\n",
      "[50]\tvalid_0's binary_logloss: 0.0317793\n",
      "[100]\tvalid_0's binary_logloss: 0.0291614\n",
      "[150]\tvalid_0's binary_logloss: 0.0287269\n",
      "[200]\tvalid_0's binary_logloss: 0.0287547\n",
      "Early stopping, best iteration is:\n",
      "[167]\tvalid_0's binary_logloss: 0.0287018\n",
      "0.5857428195951352\n",
      "Training until validation scores don't improve for 50 rounds.\n",
      "[50]\tvalid_0's binary_logloss: 0.0318738\n",
      "[100]\tvalid_0's binary_logloss: 0.0297105\n",
      "[150]\tvalid_0's binary_logloss: 0.0294348\n",
      "[200]\tvalid_0's binary_logloss: 0.0295126\n",
      "Early stopping, best iteration is:\n",
      "[163]\tvalid_0's binary_logloss: 0.0294044\n",
      "0.5682512829086046\n"
     ]
    },
    {
     "data": {
      "text/plain": [
       "0.5770876379366816"
      ]
     },
     "execution_count": 17,
     "metadata": {},
     "output_type": "execute_result"
    }
   ],
   "source": [
    "import lightgbm as lgb\n",
    "from sklearn.model_selection import KFold, GroupKFold\n",
    "from sklearn.metrics import mean_squared_error, roc_auc_score, log_loss\n",
    "\n",
    "folds = GroupKFold(n_splits=5)\n",
    "\n",
    "train_features = [_f for _f in train_data.columns if _f not in excluded_features]\n",
    "print(train_features)\n",
    "oof_clf_preds = np.zeros(train_data.shape[0])\n",
    "sub_clf_preds = np.zeros(test_data.shape[0])\n",
    "for fold_, (trn_, val_) in enumerate(folds.split(y_clf, y_clf, groups=train_data['fullVisitorId'])):\n",
    "    trn_x, trn_y = train_data[train_features].iloc[trn_], y_clf.iloc[trn_]\n",
    "    val_x, val_y = train_data[train_features].iloc[val_], y_clf.iloc[val_]\n",
    "    \n",
    "    clf = lgb.LGBMClassifier(\n",
    "        num_leaves=31,\n",
    "        learning_rate=0.03,\n",
    "        n_estimators=1000,\n",
    "        subsample=.9,\n",
    "        colsample_bytree=.9,\n",
    "        random_state=1\n",
    "    )\n",
    "    clf.fit(\n",
    "        trn_x, trn_y,\n",
    "        eval_set=[(val_x, val_y)],\n",
    "        early_stopping_rounds=50,\n",
    "        verbose=50\n",
    "    )\n",
    "    \n",
    "    oof_clf_preds[val_] = clf.predict(val_x, num_iteration=clf.best_iteration_)[:]\n",
    "    print(roc_auc_score(val_y, oof_clf_preds[val_]))\n",
    "    sub_clf_preds += clf.predict_proba(test_data[train_features], num_iteration=clf.best_iteration_)[:, 1] / folds.n_splits\n",
    "    \n",
    "roc_auc_score(y_clf, oof_clf_preds)"
   ]
  },
  {
   "cell_type": "code",
   "execution_count": 18,
   "metadata": {},
   "outputs": [
    {
     "data": {
      "text/plain": [
       "(89849,)"
      ]
     },
     "execution_count": 18,
     "metadata": {},
     "output_type": "execute_result"
    }
   ],
   "source": [
    "oof_clf_preds.shape"
   ]
  },
  {
   "cell_type": "code",
   "execution_count": 19,
   "metadata": {},
   "outputs": [
    {
     "data": {
      "text/plain": [
       "352.0"
      ]
     },
     "execution_count": 19,
     "metadata": {},
     "output_type": "execute_result"
    }
   ],
   "source": [
    "sum(oof_clf_preds)"
   ]
  },
  {
   "cell_type": "code",
   "execution_count": 20,
   "metadata": {},
   "outputs": [
    {
     "name": "stdout",
     "output_type": "stream",
     "text": [
      "              precision    recall  f1-score   support\n",
      "\n",
      "           0       0.99      1.00      0.99     88696\n",
      "           1       0.51      0.16      0.24      1153\n",
      "\n",
      "   micro avg       0.99      0.99      0.99     89849\n",
      "   macro avg       0.75      0.58      0.62     89849\n",
      "weighted avg       0.98      0.99      0.98     89849\n",
      "\n"
     ]
    }
   ],
   "source": [
    "print(classification_report(y_clf, oof_clf_preds))"
   ]
  },
  {
   "cell_type": "code",
   "execution_count": 21,
   "metadata": {},
   "outputs": [],
   "source": [
    "from scipy import stats"
   ]
  },
  {
   "cell_type": "code",
   "execution_count": 22,
   "metadata": {},
   "outputs": [
    {
     "name": "stdout",
     "output_type": "stream",
     "text": [
      "DescribeResult(nobs=89849, minmax=(0.0, 1.0), mean=0.003917684114458703, variance=0.0039023792982783214, skewness=15.882593428084089, kurtosis=250.25677400182022)\n"
     ]
    }
   ],
   "source": [
    "print(stats.describe(oof_clf_preds))"
   ]
  },
  {
   "cell_type": "code",
   "execution_count": 23,
   "metadata": {},
   "outputs": [
    {
     "data": {
      "text/plain": [
       "0.0"
      ]
     },
     "execution_count": 23,
     "metadata": {},
     "output_type": "execute_result"
    }
   ],
   "source": [
    "oof_clf_preds.min()"
   ]
  },
  {
   "cell_type": "code",
   "execution_count": 24,
   "metadata": {},
   "outputs": [
    {
     "data": {
      "text/plain": [
       "1.0"
      ]
     },
     "execution_count": 24,
     "metadata": {},
     "output_type": "execute_result"
    }
   ],
   "source": [
    "oof_clf_preds.max()"
   ]
  },
  {
   "cell_type": "code",
   "execution_count": 25,
   "metadata": {},
   "outputs": [],
   "source": [
    "from sklearn.metrics import precision_recall_curve"
   ]
  },
  {
   "cell_type": "code",
   "execution_count": 26,
   "metadata": {},
   "outputs": [],
   "source": [
    "precision, recall, thresholds = precision_recall_curve(y_clf, oof_clf_preds)"
   ]
  },
  {
   "cell_type": "code",
   "execution_count": 28,
   "metadata": {},
   "outputs": [],
   "source": [
    "train_data['non_zero_proba'] = oof_clf_preds\n",
    "test_data['non_zero_proba'] = sub_clf_preds"
   ]
  },
  {
   "cell_type": "code",
   "execution_count": 34,
   "metadata": {},
   "outputs": [
    {
     "name": "stdout",
     "output_type": "stream",
     "text": [
      "['channelGrouping', 'socialEngagementType', 'visitNumber', 'device.browser', 'device.browserSize', 'device.browserVersion', 'device.deviceCategory', 'device.flashVersion', 'device.isMobile', 'device.language', 'device.mobileDeviceBranding', 'device.mobileDeviceInfo', 'device.mobileDeviceMarketingName', 'device.mobileDeviceModel', 'device.mobileInputSelector', 'device.operatingSystem', 'device.operatingSystemVersion', 'device.screenColors', 'device.screenResolution', 'geoNetwork.city', 'geoNetwork.cityId', 'geoNetwork.continent', 'geoNetwork.country', 'geoNetwork.latitude', 'geoNetwork.longitude', 'geoNetwork.metro', 'geoNetwork.networkDomain', 'geoNetwork.networkLocation', 'geoNetwork.region', 'geoNetwork.subContinent', 'totals.bounces', 'totals.hits', 'totals.newVisits', 'totals.pageviews', 'totals.visits', 'trafficSource.adContent', 'trafficSource.adwordsClickInfo.adNetworkType', 'trafficSource.adwordsClickInfo.criteriaParameters', 'trafficSource.adwordsClickInfo.gclId', 'trafficSource.adwordsClickInfo.isVideoAd', 'trafficSource.adwordsClickInfo.page', 'trafficSource.adwordsClickInfo.slot', 'trafficSource.campaign', 'trafficSource.isTrueDirect', 'trafficSource.keyword', 'trafficSource.medium', 'trafficSource.referralPath', 'trafficSource.source', 'sess_date_dow', 'sess_date_hours', 'sess_date_dom', 'non_zero_proba']\n",
      "Training until validation scores don't improve for 50 rounds.\n",
      "[50]\tvalid_0's l2: 2.95438\n",
      "[100]\tvalid_0's l2: 2.95462\n",
      "Early stopping, best iteration is:\n",
      "[69]\tvalid_0's l2: 2.94325\n",
      "Training until validation scores don't improve for 50 rounds.\n",
      "[50]\tvalid_0's l2: 2.96521\n",
      "[100]\tvalid_0's l2: 2.8862\n",
      "[150]\tvalid_0's l2: 2.87765\n",
      "Early stopping, best iteration is:\n",
      "[130]\tvalid_0's l2: 2.87219\n",
      "Training until validation scores don't improve for 50 rounds.\n",
      "[50]\tvalid_0's l2: 3.2217\n",
      "[100]\tvalid_0's l2: 3.16462\n",
      "[150]\tvalid_0's l2: 3.16972\n",
      "Early stopping, best iteration is:\n",
      "[119]\tvalid_0's l2: 3.16015\n",
      "Training until validation scores don't improve for 50 rounds.\n",
      "[50]\tvalid_0's l2: 2.96133\n",
      "[100]\tvalid_0's l2: 2.82684\n",
      "[150]\tvalid_0's l2: 2.79916\n",
      "Early stopping, best iteration is:\n",
      "[146]\tvalid_0's l2: 2.79794\n",
      "Training until validation scores don't improve for 50 rounds.\n",
      "[50]\tvalid_0's l2: 2.83148\n",
      "[100]\tvalid_0's l2: 2.79574\n",
      "Early stopping, best iteration is:\n",
      "[85]\tvalid_0's l2: 2.79031\n"
     ]
    },
    {
     "data": {
      "text/plain": [
       "1.70664173393931"
      ]
     },
     "execution_count": 34,
     "metadata": {},
     "output_type": "execute_result"
    }
   ],
   "source": [
    "train_features = [_f for _f in train_data.columns if _f not in excluded_features] + ['non_zero_proba']\n",
    "print(train_features)\n",
    "\n",
    "oof_reg_preds = np.zeros(train_data.shape[0])\n",
    "sub_reg_preds = np.zeros(test_data.shape[0])\n",
    "importances = pd.DataFrame()\n",
    "\n",
    "for fold_, (trn_, val_) in enumerate(folds.split(y_reg, y_reg, groups=train_data['fullVisitorId'])):\n",
    "    trn_x, trn_y = train_data[train_features].iloc[trn_], y_reg.iloc[trn_].fillna(0)\n",
    "    val_x, val_y = train_data[train_features].iloc[val_], y_reg.iloc[val_].fillna(0)\n",
    "    \n",
    "    reg = lgb.LGBMRegressor(\n",
    "        num_leaves=31,\n",
    "        learning_rate=0.03,\n",
    "        n_estimators=1000,\n",
    "        subsample=.9,\n",
    "        colsample_bytree=.9,\n",
    "        random_state=1\n",
    "    )\n",
    "    reg.fit(\n",
    "        trn_x, np.log1p(trn_y),\n",
    "        eval_set=[(val_x, np.log1p(val_y))],\n",
    "        early_stopping_rounds=50,\n",
    "        verbose=50\n",
    "    )\n",
    "    imp_df = pd.DataFrame()\n",
    "    imp_df['feature'] = train_features\n",
    "    imp_df['gain'] = reg.booster_.feature_importance(importance_type='gain')\n",
    "    \n",
    "    imp_df['fold'] = fold_ + 1\n",
    "    importances = pd.concat([importances, imp_df], axis=0, sort=False)\n",
    "    \n",
    "    oof_reg_preds[val_] = reg.predict(val_x, num_iteration=reg.best_iteration_)\n",
    "    oof_reg_preds[oof_reg_preds < 0] = 0\n",
    "    _preds = reg.predict(test_data[train_features], num_iteration=reg.best_iteration_)\n",
    "    _preds[_preds < 0] = 0\n",
    "    sub_reg_preds += np.expm1(_preds) / folds.n_splits\n",
    "    \n",
    "mean_squared_error(np.log1p(y_reg.fillna(0)), oof_reg_preds) ** .5"
   ]
  },
  {
   "cell_type": "code",
   "execution_count": 35,
   "metadata": {},
   "outputs": [
    {
     "data": {
      "text/html": [
       "<div>\n",
       "<style scoped>\n",
       "    .dataframe tbody tr th:only-of-type {\n",
       "        vertical-align: middle;\n",
       "    }\n",
       "\n",
       "    .dataframe tbody tr th {\n",
       "        vertical-align: top;\n",
       "    }\n",
       "\n",
       "    .dataframe thead th {\n",
       "        text-align: right;\n",
       "    }\n",
       "</style>\n",
       "<table border=\"1\" class=\"dataframe\">\n",
       "  <thead>\n",
       "    <tr style=\"text-align: right;\">\n",
       "      <th></th>\n",
       "      <th>feature</th>\n",
       "      <th>gain</th>\n",
       "      <th>fold</th>\n",
       "    </tr>\n",
       "  </thead>\n",
       "  <tbody>\n",
       "    <tr>\n",
       "      <th>0</th>\n",
       "      <td>channelGrouping</td>\n",
       "      <td>18492.702911</td>\n",
       "      <td>5</td>\n",
       "    </tr>\n",
       "    <tr>\n",
       "      <th>1</th>\n",
       "      <td>socialEngagementType</td>\n",
       "      <td>0.000000</td>\n",
       "      <td>5</td>\n",
       "    </tr>\n",
       "    <tr>\n",
       "      <th>2</th>\n",
       "      <td>visitNumber</td>\n",
       "      <td>185596.739285</td>\n",
       "      <td>5</td>\n",
       "    </tr>\n",
       "    <tr>\n",
       "      <th>3</th>\n",
       "      <td>device.browser</td>\n",
       "      <td>8383.443970</td>\n",
       "      <td>5</td>\n",
       "    </tr>\n",
       "    <tr>\n",
       "      <th>4</th>\n",
       "      <td>device.browserSize</td>\n",
       "      <td>0.000000</td>\n",
       "      <td>5</td>\n",
       "    </tr>\n",
       "    <tr>\n",
       "      <th>5</th>\n",
       "      <td>device.browserVersion</td>\n",
       "      <td>0.000000</td>\n",
       "      <td>5</td>\n",
       "    </tr>\n",
       "    <tr>\n",
       "      <th>6</th>\n",
       "      <td>device.deviceCategory</td>\n",
       "      <td>33293.828773</td>\n",
       "      <td>5</td>\n",
       "    </tr>\n",
       "    <tr>\n",
       "      <th>7</th>\n",
       "      <td>device.flashVersion</td>\n",
       "      <td>0.000000</td>\n",
       "      <td>5</td>\n",
       "    </tr>\n",
       "    <tr>\n",
       "      <th>8</th>\n",
       "      <td>device.isMobile</td>\n",
       "      <td>1318.396988</td>\n",
       "      <td>5</td>\n",
       "    </tr>\n",
       "    <tr>\n",
       "      <th>9</th>\n",
       "      <td>device.language</td>\n",
       "      <td>0.000000</td>\n",
       "      <td>5</td>\n",
       "    </tr>\n",
       "    <tr>\n",
       "      <th>10</th>\n",
       "      <td>device.mobileDeviceBranding</td>\n",
       "      <td>0.000000</td>\n",
       "      <td>5</td>\n",
       "    </tr>\n",
       "    <tr>\n",
       "      <th>11</th>\n",
       "      <td>device.mobileDeviceInfo</td>\n",
       "      <td>0.000000</td>\n",
       "      <td>5</td>\n",
       "    </tr>\n",
       "    <tr>\n",
       "      <th>12</th>\n",
       "      <td>device.mobileDeviceMarketingName</td>\n",
       "      <td>0.000000</td>\n",
       "      <td>5</td>\n",
       "    </tr>\n",
       "    <tr>\n",
       "      <th>13</th>\n",
       "      <td>device.mobileDeviceModel</td>\n",
       "      <td>0.000000</td>\n",
       "      <td>5</td>\n",
       "    </tr>\n",
       "    <tr>\n",
       "      <th>14</th>\n",
       "      <td>device.mobileInputSelector</td>\n",
       "      <td>0.000000</td>\n",
       "      <td>5</td>\n",
       "    </tr>\n",
       "    <tr>\n",
       "      <th>15</th>\n",
       "      <td>device.operatingSystem</td>\n",
       "      <td>80812.747765</td>\n",
       "      <td>5</td>\n",
       "    </tr>\n",
       "    <tr>\n",
       "      <th>16</th>\n",
       "      <td>device.operatingSystemVersion</td>\n",
       "      <td>0.000000</td>\n",
       "      <td>5</td>\n",
       "    </tr>\n",
       "    <tr>\n",
       "      <th>17</th>\n",
       "      <td>device.screenColors</td>\n",
       "      <td>0.000000</td>\n",
       "      <td>5</td>\n",
       "    </tr>\n",
       "    <tr>\n",
       "      <th>18</th>\n",
       "      <td>device.screenResolution</td>\n",
       "      <td>0.000000</td>\n",
       "      <td>5</td>\n",
       "    </tr>\n",
       "    <tr>\n",
       "      <th>19</th>\n",
       "      <td>geoNetwork.city</td>\n",
       "      <td>59262.937740</td>\n",
       "      <td>5</td>\n",
       "    </tr>\n",
       "    <tr>\n",
       "      <th>20</th>\n",
       "      <td>geoNetwork.cityId</td>\n",
       "      <td>0.000000</td>\n",
       "      <td>5</td>\n",
       "    </tr>\n",
       "    <tr>\n",
       "      <th>21</th>\n",
       "      <td>geoNetwork.continent</td>\n",
       "      <td>11674.070946</td>\n",
       "      <td>5</td>\n",
       "    </tr>\n",
       "    <tr>\n",
       "      <th>22</th>\n",
       "      <td>geoNetwork.country</td>\n",
       "      <td>172441.553001</td>\n",
       "      <td>5</td>\n",
       "    </tr>\n",
       "    <tr>\n",
       "      <th>23</th>\n",
       "      <td>geoNetwork.latitude</td>\n",
       "      <td>0.000000</td>\n",
       "      <td>5</td>\n",
       "    </tr>\n",
       "    <tr>\n",
       "      <th>24</th>\n",
       "      <td>geoNetwork.longitude</td>\n",
       "      <td>0.000000</td>\n",
       "      <td>5</td>\n",
       "    </tr>\n",
       "    <tr>\n",
       "      <th>25</th>\n",
       "      <td>geoNetwork.metro</td>\n",
       "      <td>39464.099976</td>\n",
       "      <td>5</td>\n",
       "    </tr>\n",
       "    <tr>\n",
       "      <th>26</th>\n",
       "      <td>geoNetwork.networkDomain</td>\n",
       "      <td>40198.226780</td>\n",
       "      <td>5</td>\n",
       "    </tr>\n",
       "    <tr>\n",
       "      <th>27</th>\n",
       "      <td>geoNetwork.networkLocation</td>\n",
       "      <td>0.000000</td>\n",
       "      <td>5</td>\n",
       "    </tr>\n",
       "    <tr>\n",
       "      <th>28</th>\n",
       "      <td>geoNetwork.region</td>\n",
       "      <td>11936.762085</td>\n",
       "      <td>5</td>\n",
       "    </tr>\n",
       "    <tr>\n",
       "      <th>29</th>\n",
       "      <td>geoNetwork.subContinent</td>\n",
       "      <td>23516.266983</td>\n",
       "      <td>5</td>\n",
       "    </tr>\n",
       "    <tr>\n",
       "      <th>30</th>\n",
       "      <td>totals.bounces</td>\n",
       "      <td>246.365997</td>\n",
       "      <td>5</td>\n",
       "    </tr>\n",
       "    <tr>\n",
       "      <th>31</th>\n",
       "      <td>totals.hits</td>\n",
       "      <td>195193.043259</td>\n",
       "      <td>5</td>\n",
       "    </tr>\n",
       "    <tr>\n",
       "      <th>32</th>\n",
       "      <td>totals.newVisits</td>\n",
       "      <td>3643.347015</td>\n",
       "      <td>5</td>\n",
       "    </tr>\n",
       "    <tr>\n",
       "      <th>33</th>\n",
       "      <td>totals.pageviews</td>\n",
       "      <td>887200.186409</td>\n",
       "      <td>5</td>\n",
       "    </tr>\n",
       "    <tr>\n",
       "      <th>34</th>\n",
       "      <td>totals.visits</td>\n",
       "      <td>0.000000</td>\n",
       "      <td>5</td>\n",
       "    </tr>\n",
       "    <tr>\n",
       "      <th>35</th>\n",
       "      <td>trafficSource.adContent</td>\n",
       "      <td>0.000000</td>\n",
       "      <td>5</td>\n",
       "    </tr>\n",
       "    <tr>\n",
       "      <th>36</th>\n",
       "      <td>trafficSource.adwordsClickInfo.adNetworkType</td>\n",
       "      <td>0.000000</td>\n",
       "      <td>5</td>\n",
       "    </tr>\n",
       "    <tr>\n",
       "      <th>37</th>\n",
       "      <td>trafficSource.adwordsClickInfo.criteriaParameters</td>\n",
       "      <td>0.000000</td>\n",
       "      <td>5</td>\n",
       "    </tr>\n",
       "    <tr>\n",
       "      <th>38</th>\n",
       "      <td>trafficSource.adwordsClickInfo.gclId</td>\n",
       "      <td>2027.312202</td>\n",
       "      <td>5</td>\n",
       "    </tr>\n",
       "    <tr>\n",
       "      <th>39</th>\n",
       "      <td>trafficSource.adwordsClickInfo.isVideoAd</td>\n",
       "      <td>0.000000</td>\n",
       "      <td>5</td>\n",
       "    </tr>\n",
       "    <tr>\n",
       "      <th>40</th>\n",
       "      <td>trafficSource.adwordsClickInfo.page</td>\n",
       "      <td>0.000000</td>\n",
       "      <td>5</td>\n",
       "    </tr>\n",
       "    <tr>\n",
       "      <th>41</th>\n",
       "      <td>trafficSource.adwordsClickInfo.slot</td>\n",
       "      <td>0.000000</td>\n",
       "      <td>5</td>\n",
       "    </tr>\n",
       "    <tr>\n",
       "      <th>42</th>\n",
       "      <td>trafficSource.campaign</td>\n",
       "      <td>0.000000</td>\n",
       "      <td>5</td>\n",
       "    </tr>\n",
       "    <tr>\n",
       "      <th>43</th>\n",
       "      <td>trafficSource.isTrueDirect</td>\n",
       "      <td>14427.033981</td>\n",
       "      <td>5</td>\n",
       "    </tr>\n",
       "    <tr>\n",
       "      <th>44</th>\n",
       "      <td>trafficSource.keyword</td>\n",
       "      <td>3387.210030</td>\n",
       "      <td>5</td>\n",
       "    </tr>\n",
       "    <tr>\n",
       "      <th>45</th>\n",
       "      <td>trafficSource.medium</td>\n",
       "      <td>4692.183044</td>\n",
       "      <td>5</td>\n",
       "    </tr>\n",
       "    <tr>\n",
       "      <th>46</th>\n",
       "      <td>trafficSource.referralPath</td>\n",
       "      <td>34017.192070</td>\n",
       "      <td>5</td>\n",
       "    </tr>\n",
       "    <tr>\n",
       "      <th>47</th>\n",
       "      <td>trafficSource.source</td>\n",
       "      <td>28581.845993</td>\n",
       "      <td>5</td>\n",
       "    </tr>\n",
       "    <tr>\n",
       "      <th>48</th>\n",
       "      <td>sess_date_dow</td>\n",
       "      <td>0.000000</td>\n",
       "      <td>5</td>\n",
       "    </tr>\n",
       "    <tr>\n",
       "      <th>49</th>\n",
       "      <td>sess_date_hours</td>\n",
       "      <td>0.000000</td>\n",
       "      <td>5</td>\n",
       "    </tr>\n",
       "    <tr>\n",
       "      <th>50</th>\n",
       "      <td>sess_date_dom</td>\n",
       "      <td>0.000000</td>\n",
       "      <td>5</td>\n",
       "    </tr>\n",
       "    <tr>\n",
       "      <th>51</th>\n",
       "      <td>non_zero_proba</td>\n",
       "      <td>80556.094391</td>\n",
       "      <td>5</td>\n",
       "    </tr>\n",
       "  </tbody>\n",
       "</table>\n",
       "</div>"
      ],
      "text/plain": [
       "                                              feature           gain  fold\n",
       "0                                     channelGrouping   18492.702911     5\n",
       "1                                socialEngagementType       0.000000     5\n",
       "2                                         visitNumber  185596.739285     5\n",
       "3                                      device.browser    8383.443970     5\n",
       "4                                  device.browserSize       0.000000     5\n",
       "5                               device.browserVersion       0.000000     5\n",
       "6                               device.deviceCategory   33293.828773     5\n",
       "7                                 device.flashVersion       0.000000     5\n",
       "8                                     device.isMobile    1318.396988     5\n",
       "9                                     device.language       0.000000     5\n",
       "10                        device.mobileDeviceBranding       0.000000     5\n",
       "11                            device.mobileDeviceInfo       0.000000     5\n",
       "12                   device.mobileDeviceMarketingName       0.000000     5\n",
       "13                           device.mobileDeviceModel       0.000000     5\n",
       "14                         device.mobileInputSelector       0.000000     5\n",
       "15                             device.operatingSystem   80812.747765     5\n",
       "16                      device.operatingSystemVersion       0.000000     5\n",
       "17                                device.screenColors       0.000000     5\n",
       "18                            device.screenResolution       0.000000     5\n",
       "19                                    geoNetwork.city   59262.937740     5\n",
       "20                                  geoNetwork.cityId       0.000000     5\n",
       "21                               geoNetwork.continent   11674.070946     5\n",
       "22                                 geoNetwork.country  172441.553001     5\n",
       "23                                geoNetwork.latitude       0.000000     5\n",
       "24                               geoNetwork.longitude       0.000000     5\n",
       "25                                   geoNetwork.metro   39464.099976     5\n",
       "26                           geoNetwork.networkDomain   40198.226780     5\n",
       "27                         geoNetwork.networkLocation       0.000000     5\n",
       "28                                  geoNetwork.region   11936.762085     5\n",
       "29                            geoNetwork.subContinent   23516.266983     5\n",
       "30                                     totals.bounces     246.365997     5\n",
       "31                                        totals.hits  195193.043259     5\n",
       "32                                   totals.newVisits    3643.347015     5\n",
       "33                                   totals.pageviews  887200.186409     5\n",
       "34                                      totals.visits       0.000000     5\n",
       "35                            trafficSource.adContent       0.000000     5\n",
       "36       trafficSource.adwordsClickInfo.adNetworkType       0.000000     5\n",
       "37  trafficSource.adwordsClickInfo.criteriaParameters       0.000000     5\n",
       "38               trafficSource.adwordsClickInfo.gclId    2027.312202     5\n",
       "39           trafficSource.adwordsClickInfo.isVideoAd       0.000000     5\n",
       "40                trafficSource.adwordsClickInfo.page       0.000000     5\n",
       "41                trafficSource.adwordsClickInfo.slot       0.000000     5\n",
       "42                             trafficSource.campaign       0.000000     5\n",
       "43                         trafficSource.isTrueDirect   14427.033981     5\n",
       "44                              trafficSource.keyword    3387.210030     5\n",
       "45                               trafficSource.medium    4692.183044     5\n",
       "46                         trafficSource.referralPath   34017.192070     5\n",
       "47                               trafficSource.source   28581.845993     5\n",
       "48                                      sess_date_dow       0.000000     5\n",
       "49                                    sess_date_hours       0.000000     5\n",
       "50                                      sess_date_dom       0.000000     5\n",
       "51                                     non_zero_proba   80556.094391     5"
      ]
     },
     "execution_count": 35,
     "metadata": {},
     "output_type": "execute_result"
    }
   ],
   "source": [
    "imp_df"
   ]
  },
  {
   "cell_type": "code",
   "execution_count": null,
   "metadata": {},
   "outputs": [],
   "source": []
  }
 ],
 "metadata": {
  "kernelspec": {
   "display_name": "Python 3",
   "language": "python",
   "name": "python3"
  },
  "language_info": {
   "codemirror_mode": {
    "name": "ipython",
    "version": 3
   },
   "file_extension": ".py",
   "mimetype": "text/x-python",
   "name": "python",
   "nbconvert_exporter": "python",
   "pygments_lexer": "ipython3",
   "version": "3.5.2"
  }
 },
 "nbformat": 4,
 "nbformat_minor": 2
}
