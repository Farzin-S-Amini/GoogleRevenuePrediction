{
 "cells": [
  {
   "cell_type": "code",
   "execution_count": 3,
   "metadata": {},
   "outputs": [],
   "source": [
    "import matplotlib.pyplot as plt\n",
    "import os\n",
    "import json\n",
    "import pandas as pd\n",
    "import numpy as np\n",
    "from pandas.io.json import json_normalize\n",
    "import random\n",
    "from sklearn.model_selection import train_test_split\n",
    "from sklearn.tree import DecisionTreeClassifier\n",
    "import warnings\n",
    "warnings.filterwarnings('ignore')\n",
    "from sklearn.metrics import classification_report\n",
    "from scipy import stats\n"
   ]
  },
  {
   "cell_type": "code",
   "execution_count": 4,
   "metadata": {},
   "outputs": [
    {
     "name": "stdout",
     "output_type": "stream",
     "text": [
      "Loaded train.csv. Shape: (90165, 54)\n",
      "loaded\n"
     ]
    }
   ],
   "source": [
    "def load_df(csv_path='./data/train.csv', nrows=None):\n",
    "    JSON_COLUMNS = ['device', 'geoNetwork', 'totals', 'trafficSource']\n",
    "    p=0.1\n",
    "    df = pd.read_csv(csv_path,\n",
    "                     converters={column: json.loads for column in JSON_COLUMNS},\n",
    "                     dtype={'fullVisitorId': 'str'}, nrows=nrows, # Important!!\n",
    "                      skiprows=lambda i: i > 0 and random.random() > p)\n",
    "\n",
    "    for column in JSON_COLUMNS:\n",
    "        column_as_df = json_normalize(df[column])\n",
    "        column_as_df.columns = [f\"{column}.{subcolumn}\" for subcolumn in column_as_df.columns]\n",
    "        df = df.drop(column, axis=1).merge(column_as_df, right_index=True, left_index=True)\n",
    "    print(f\"Loaded {os.path.basename(csv_path)}. Shape: {df.shape}\")\n",
    "    return df\n",
    "\n",
    "train_df = load_df()\n",
    "print(\"loaded\")"
   ]
  },
  {
   "cell_type": "code",
   "execution_count": 10,
   "metadata": {},
   "outputs": [
    {
     "name": "stdout",
     "output_type": "stream",
     "text": [
      "False    89062\n",
      "True      1103\n",
      "Name: shops or not, dtype: int64\n"
     ]
    }
   ],
   "source": [
    "pd.set_option('display.max_columns', None)\n",
    "\n",
    "train_df[\"totals.transactionRevenue\"] = train_df[\"totals.transactionRevenue\"].astype('float')\n",
    "train_df['shops or not'] = train_df['totals.transactionRevenue'].values > 0\n",
    "\n",
    "print(pd.value_counts(train_df['shops or not']))\n",
    "\n",
    "def date_format(df):\n",
    "    df['date'] = pd.to_datetime(df['date'])\n",
    "    df['vis_date'] = pd.to_datetime(df['visitStartTime'])\n",
    "    df['sess_date_dow'] = df['vis_date'].dt.dayofweek\n",
    "    df['sess_date_hours'] = df['vis_date'].dt.hour\n",
    "    df['sess_date_dom'] = df['vis_date'].dt.day\n",
    "\n",
    "date_format(train_df)\n",
    "\n",
    "# excluded_features = [\n",
    "#     'date', 'fullVisitorId', 'sessionId', 'totals.transactionRevenue',\n",
    "#     'visitId', 'visitStartTime', 'vis_date'\n",
    "# ]\n",
    "categorical_features = [\n",
    "    _f for _f in train_df.columns\n",
    "    if (train_df[_f].dtype == 'object')\n",
    "]\n",
    "\n",
    "#print(categorical_features)\n",
    "\n",
    "for f in categorical_features:\n",
    "    train_df[f], indexer = pd.factorize(train_df[f])\n",
    "\n",
    "A=train_df.fillna(0)\n",
    "X=A.drop('shops or not',axis=1)\n",
    "L=X.drop('date',axis=1)\n",
    "Z=L.drop('vis_date',axis=1)\n",
    "M=Z.drop('totals.transactionRevenue',axis=1)\n",
    "y=train_df['shops or not']\n"
   ]
  },
  {
   "cell_type": "code",
   "execution_count": 13,
   "metadata": {},
   "outputs": [
    {
     "name": "stdout",
     "output_type": "stream",
     "text": [
      "Index(['channelGrouping', 'date', 'fullVisitorId', 'sessionId',\n",
      "       'socialEngagementType', 'visitId', 'visitNumber', 'visitStartTime',\n",
      "       'device.browser', 'device.browserSize', 'device.browserVersion',\n",
      "       'device.deviceCategory', 'device.flashVersion', 'device.isMobile',\n",
      "       'device.language', 'device.mobileDeviceBranding',\n",
      "       'device.mobileDeviceInfo', 'device.mobileDeviceMarketingName',\n",
      "       'device.mobileDeviceModel', 'device.mobileInputSelector',\n",
      "       'device.operatingSystem', 'device.operatingSystemVersion',\n",
      "       'device.screenColors', 'device.screenResolution', 'geoNetwork.city',\n",
      "       'geoNetwork.cityId', 'geoNetwork.continent', 'geoNetwork.country',\n",
      "       'geoNetwork.latitude', 'geoNetwork.longitude', 'geoNetwork.metro',\n",
      "       'geoNetwork.networkDomain', 'geoNetwork.networkLocation',\n",
      "       'geoNetwork.region', 'geoNetwork.subContinent', 'totals.bounces',\n",
      "       'totals.hits', 'totals.newVisits', 'totals.pageviews',\n",
      "       'totals.transactionRevenue', 'totals.visits', 'trafficSource.adContent',\n",
      "       'trafficSource.adwordsClickInfo.adNetworkType',\n",
      "       'trafficSource.adwordsClickInfo.criteriaParameters',\n",
      "       'trafficSource.adwordsClickInfo.gclId',\n",
      "       'trafficSource.adwordsClickInfo.isVideoAd',\n",
      "       'trafficSource.adwordsClickInfo.page',\n",
      "       'trafficSource.adwordsClickInfo.slot', 'trafficSource.campaign',\n",
      "       'trafficSource.isTrueDirect', 'trafficSource.keyword',\n",
      "       'trafficSource.medium', 'trafficSource.referralPath',\n",
      "       'trafficSource.source', 'shops or not', 'vis_date', 'sess_date_dow',\n",
      "       'sess_date_hours', 'sess_date_dom'],\n",
      "      dtype='object') [0.01177112 0.06730867 0.07235087 0.         0.07390179 0.03475871\n",
      " 0.0712806  0.01193263 0.         0.         0.00486764 0.\n",
      " 0.00520771 0.         0.         0.         0.         0.\n",
      " 0.         0.03732572 0.         0.         0.         0.04015427\n",
      " 0.         0.01379441 0.01261981 0.         0.         0.03905293\n",
      " 0.04635349 0.         0.03360128 0.00969168 0.00773792 0.16375514\n",
      " 0.01256576 0.16831317 0.         0.00125159 0.0006238  0.\n",
      " 0.00287536 0.00036245 0.00061873 0.00073847 0.00217417 0.01021531\n",
      " 0.01085364 0.01055739 0.00975534 0.0116284  0.         0.\n",
      " 0.        ]\n"
     ]
    }
   ],
   "source": [
    "from sklearn.ensemble import ExtraTreesClassifier\n",
    "# feature extraction\n",
    "model = ExtraTreesClassifier()\n",
    "model.fit(M,y)\n",
    "print(train_df.columns,model.feature_importances_)\n"
   ]
  },
  {
   "cell_type": "code",
   "execution_count": 18,
   "metadata": {},
   "outputs": [
    {
     "name": "stdout",
     "output_type": "stream",
     "text": [
      "             precision    recall  f1-score   support\n",
      "\n",
      "      False       0.99      0.99      0.99     88853\n",
      "       True       0.29      0.31      0.30      1151\n",
      "\n",
      "avg / total       0.98      0.98      0.98     90004\n",
      "\n",
      "prob\n",
      "(90004, 55)\n",
      "(90004,)\n"
     ]
    }
   ],
   "source": [
    "from sklearn.model_selection import KFold, GroupKFold\n",
    "\n",
    "folds = GroupKFold(n_splits=5)\n",
    "oof_clf_preds = np.zeros(M.shape[0])\n",
    "\n",
    "for fold_, (trn_, val_) in enumerate(folds.split(M, y, groups=M['fullVisitorId'])):\n",
    "    trn_x, trn_y = M.iloc[trn_], y.iloc[trn_]\n",
    "    val_x, val_y = M.iloc[val_], y.iloc[val_]\n",
    "\n",
    "\n",
    "    DecTreeModel = DecisionTreeClassifier()\n",
    "    DecTreeModel.fit(trn_x,trn_y)\n",
    "    oof_clf_preds[val_] = DecTreeModel.predict_proba(val_x)[:,1]\n",
    "\n",
    "print(classification_report(y, oof_clf_preds))    \n",
    "print(\"prob\")\n",
    "print(M.shape)\n",
    "print(oof_clf_preds.shape)\n"
   ]
  },
  {
   "cell_type": "code",
   "execution_count": 22,
   "metadata": {},
   "outputs": [
    {
     "name": "stdout",
     "output_type": "stream",
     "text": [
      "(90004, 56)\n",
      "DescribeResult(nobs=90004, minmax=(0.0, 5614440000.0), mean=1462976.2010577307, variance=997153931554115.2, skewness=86.08508734383462, kurtosis=12488.317430445491)\n",
      "DescribeResult(nobs=90004, minmax=(0.0, 3022200000.0), mean=1715277.2099017822, variance=996332883577032.0, skewness=48.544392880663395, kurtosis=3501.1210039267703)\n"
     ]
    },
    {
     "data": {
      "text/plain": [
       "2.471496162184628"
      ]
     },
     "execution_count": 22,
     "metadata": {},
     "output_type": "execute_result"
    }
   ],
   "source": [
    "M['non_zero_proba'] = oof_clf_preds\n",
    "print(M.shape)\n",
    "from sklearn.tree import DecisionTreeRegressor\n",
    "\n",
    "oof_reg_preds = np.zeros(M.shape[0])\n",
    "\n",
    "y1 = train_df[\"totals.transactionRevenue\"].fillna(0)\n",
    "\n",
    "for fold_, (trn_, val_) in enumerate(folds.split(M, y1, groups=M['fullVisitorId'])):\n",
    "    trn_x, trn_y = M.iloc[trn_], y1.iloc[trn_]\n",
    "    val_x, val_y = M.iloc[val_], y1.iloc[val_]\n",
    "\n",
    "    DecTreeReg = DecisionTreeRegressor()\n",
    "    DecTreeReg.fit(trn_x,trn_y)\n",
    "    oof_reg_preds[val_] = DecTreeReg.predict(val_x)\n",
    "\n",
    "\n",
    "print(stats.describe(y1))    \n",
    "print(stats.describe(oof_reg_preds))\n",
    "\n",
    "\n",
    "from sklearn.metrics import mean_squared_error    \n",
    "mean_squared_error(np.log1p(y1), np.log1p(oof_reg_preds)) ** .5 \n"
   ]
  }
 ],
 "metadata": {
  "kernelspec": {
   "display_name": "Python 3",
   "language": "python",
   "name": "python3"
  },
  "language_info": {
   "codemirror_mode": {
    "name": "ipython",
    "version": 3
   },
   "file_extension": ".py",
   "mimetype": "text/x-python",
   "name": "python",
   "nbconvert_exporter": "python",
   "pygments_lexer": "ipython3",
   "version": "3.7.0"
  }
 },
 "nbformat": 4,
 "nbformat_minor": 2
}
