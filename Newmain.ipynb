{
 "cells": [
  {
   "cell_type": "code",
   "execution_count": 78,
   "metadata": {},
   "outputs": [],
   "source": [
    "import matplotlib.pyplot as plt\n",
    "import os\n",
    "import json\n",
    "import pandas as pd\n",
    "import numpy as np\n",
    "from pandas.io.json import json_normalize\n",
    "import random\n",
    "from sklearn.model_selection import train_test_split\n",
    "from sklearn.tree import DecisionTreeClassifier\n",
    "import warnings\n",
    "warnings.filterwarnings('ignore')\n",
    "from sklearn.metrics import classification_report\n",
    "from scipy import stats\n"
   ]
  },
  {
   "cell_type": "code",
   "execution_count": 79,
   "metadata": {},
   "outputs": [
    {
     "name": "stdout",
     "output_type": "stream",
     "text": [
      "Loaded train.csv. Shape: (90463, 54)\n",
      "loaded\n"
     ]
    }
   ],
   "source": [
    "def load_df(csv_path='./data/train.csv', nrows=None):\n",
    "    JSON_COLUMNS = ['device', 'geoNetwork', 'totals', 'trafficSource']\n",
    "    p=0.1\n",
    "    df = pd.read_csv(csv_path,\n",
    "                     converters={column: json.loads for column in JSON_COLUMNS},\n",
    "                     dtype={'fullVisitorId': 'str'}, nrows=nrows, # Important!!\n",
    "                      skiprows=lambda i: i > 0 and random.random() > p)\n",
    "\n",
    "    for column in JSON_COLUMNS:\n",
    "        column_as_df = json_normalize(df[column])\n",
    "        column_as_df.columns = [f\"{column}.{subcolumn}\" for subcolumn in column_as_df.columns]\n",
    "        df = df.drop(column, axis=1).merge(column_as_df, right_index=True, left_index=True)\n",
    "    print(f\"Loaded {os.path.basename(csv_path)}. Shape: {df.shape}\")\n",
    "    return df\n",
    "\n",
    "train_df = load_df()\n",
    "print(\"loaded\")\n"
   ]
  },
  {
   "cell_type": "code",
   "execution_count": 80,
   "metadata": {},
   "outputs": [
    {
     "name": "stdout",
     "output_type": "stream",
     "text": [
      "False    89303\n",
      "True      1160\n",
      "Name: shops or not, dtype: int64\n"
     ]
    }
   ],
   "source": [
    "train_df[\"totals.transactionRevenue\"] = train_df[\"totals.transactionRevenue\"].astype('float')\n",
    "train_df['shops or not'] = train_df['totals.transactionRevenue'].values > 0\n",
    "\n",
    "print(pd.value_counts(train_df['shops or not']))\n",
    "\n",
    "def date_format(df):\n",
    "    df['date'] = pd.to_datetime(df['date'])\n",
    "    df['vis_date'] = pd.to_datetime(df['visitStartTime'])\n",
    "    df['sess_date_dow'] = df['vis_date'].dt.dayofweek\n",
    "    df['sess_date_hours'] = df['vis_date'].dt.hour\n",
    "    df['sess_date_dom'] = df['vis_date'].dt.day\n",
    "ec\n",
    "date_format(train_df)\n",
    "\n",
    "\n",
    "categorical_features = [\n",
    "    _f for _f in train_df.columns\n",
    "    if (train_df[_f].dtype == 'object')\n",
    "]\n",
    "\n",
    "#print(categorical_features)\n",
    "\n",
    "for f in categorical_features:\n",
    "    train_df[f], indexer = pd.factorize(train_df[f])\n",
    "\n",
    "A=train_df.fillna(0)\n",
    "X=A.drop('shops or not',axis=1)\n",
    "L=X.drop('date',axis=1)\n",
    "Z=L.drop('vis_date',axis=1)\n",
    "#M=Z.drop('totals.transactionRevenue',axis=1)\n",
    "M=Z.drop(['totals.transactionRevenue','socialEngagementType','totals.visits','device.browserVersion','device.flashVersion',\n",
    "          'device.language','device.browserSize','device.mobileDeviceInfo','device.mobileDeviceMarketingName',\n",
    "          'device.mobileDeviceModel','device.mobileInputSelector','device.operatingSystemVersion',\n",
    "          'device.screenColors','device.screenResolution','geoNetwork.cityId','geoNetwork.latitude',\n",
    "          'geoNetwork.longitude','geoNetwork.networkLocation','trafficSource.adwordsClickInfo.criteriaParameters'],axis=1)\n",
    "\n",
    "y=train_df['shops or not']\n"
   ]
  },
  {
   "cell_type": "code",
   "execution_count": 68,
   "metadata": {},
   "outputs": [],
   "source": [
    "#implementing over sampling\n",
    "# from imblearn.over_sampling import SMOTE\n",
    "\n",
    "# sm = SMOTE(random_state=2)\n",
    "# M_new,y_new = sm.fit_sample(M, y)\n",
    "\n",
    "# print(M.shape)\n",
    "# print(y.shape)\n",
    "# print(M_new.shape)\n",
    "# print(y_new.shape)\n"
   ]
  },
  {
   "cell_type": "code",
   "execution_count": 81,
   "metadata": {},
   "outputs": [
    {
     "name": "stdout",
     "output_type": "stream",
     "text": [
      "                                         feature  importance\n",
      "19                                   totals.hits    0.245532\n",
      "21                              totals.pageviews    0.172312\n",
      "18                                totals.bounces    0.078479\n",
      "3                                        visitId    0.043439\n",
      "5                                 visitStartTime    0.042364\n",
      "1                                  fullVisitorId    0.041529\n",
      "2                                      sessionId    0.041465\n",
      "15                      geoNetwork.networkDomain    0.031453\n",
      "17                       geoNetwork.subContinent    0.031095\n",
      "20                              totals.newVisits    0.026020\n",
      "11                               geoNetwork.city    0.025116\n",
      "10                        device.operatingSystem    0.024839\n",
      "14                              geoNetwork.metro    0.024162\n",
      "16                             geoNetwork.region    0.023061\n",
      "29                    trafficSource.isTrueDirect    0.020598\n",
      "4                                    visitNumber    0.020213\n",
      "12                          geoNetwork.continent    0.015563\n",
      "0                                channelGrouping    0.014015\n",
      "8                                device.isMobile    0.013091\n",
      "31                          trafficSource.medium    0.011456\n",
      "13                            geoNetwork.country    0.010472\n",
      "6                                 device.browser    0.009851\n",
      "33                          trafficSource.source    0.007701\n",
      "32                    trafficSource.referralPath    0.006975\n",
      "30                         trafficSource.keyword    0.006542\n",
      "7                          device.deviceCategory    0.006257\n",
      "24          trafficSource.adwordsClickInfo.gclId    0.001878\n",
      "28                        trafficSource.campaign    0.001201\n",
      "26           trafficSource.adwordsClickInfo.page    0.000786\n",
      "25      trafficSource.adwordsClickInfo.isVideoAd    0.000729\n",
      "22                       trafficSource.adContent    0.000709\n",
      "23  trafficSource.adwordsClickInfo.adNetworkType    0.000560\n",
      "27           trafficSource.adwordsClickInfo.slot    0.000537\n",
      "9                    device.mobileDeviceBranding    0.000000\n",
      "34                                 sess_date_dow    0.000000\n",
      "35                               sess_date_hours    0.000000\n",
      "36                                 sess_date_dom    0.000000\n",
      "['device.mobileDeviceBranding' 'sess_date_dow' 'sess_date_hours'\n",
      " 'sess_date_dom']\n"
     ]
    }
   ],
   "source": [
    "# feature selection\n",
    "from sklearn.ensemble import ExtraTreesClassifier\n",
    "# here criterion='entropy'  for the information gain, 'gini' for the Gini impurity \n",
    "model = ExtraTreesClassifier(criterion='entropy')\n",
    "model.fit(M,y)\n",
    "\n",
    "imp_df = pd.DataFrame()\n",
    "imp_df['feature'] = M.columns\n",
    "imp_df['importance'] = model.feature_importances_\n",
    "\n",
    "print(imp_df.sort_values('importance', ascending=False))\n",
    "\n",
    "imp_df = imp_df[imp_df['importance'].astype('float') < 0.0005] \n",
    "\n",
    "dropFeatures = imp_df['feature'].values \n",
    "print(dropFeatures)\n",
    "\n",
    "M=M.drop(dropFeatures,axis=1)"
   ]
  },
  {
   "cell_type": "code",
   "execution_count": 86,
   "metadata": {},
   "outputs": [
    {
     "name": "stdout",
     "output_type": "stream",
     "text": [
      "(90463, 34)\n"
     ]
    }
   ],
   "source": [
    "print(M.shape)"
   ]
  },
  {
   "cell_type": "code",
   "execution_count": 96,
   "metadata": {},
   "outputs": [
    {
     "name": "stdout",
     "output_type": "stream",
     "text": [
      "              precision    recall  f1-score   support\n",
      "\n",
      "       False       0.99      0.99      0.99     89303\n",
      "        True       0.32      0.32      0.32      1160\n",
      "\n",
      "   micro avg       0.98      0.98      0.98     90463\n",
      "   macro avg       0.66      0.66      0.66     90463\n",
      "weighted avg       0.98      0.98      0.98     90463\n",
      "\n",
      "prob\n",
      "(90463, 34)\n",
      "(90463,)\n"
     ]
    }
   ],
   "source": [
    "from sklearn.model_selection import KFold, GroupKFold\n",
    "from imblearn.over_sampling import SMOTE\n",
    "\n",
    "\n",
    "folds = GroupKFold(n_splits=5)\n",
    "oof_clf_preds = np.zeros(M.shape[0])\n",
    "\n",
    "for fold_, (trn_, val_) in enumerate(folds.split(M, y, groups=M['fullVisitorId'])):\n",
    "    trn_x, trn_y = M.iloc[trn_], y.iloc[trn_]\n",
    "    val_x, val_y = M.iloc[val_], y.iloc[val_]\n",
    "\n",
    "#using smote     \n",
    "#     sm = SMOTE(random_state=2)\n",
    "#     trn_xSampled,trn_ySampled = sm.fit_sample(trn_x, trn_y)\n",
    " \n",
    "#using class weight for imbalanced data\n",
    "    DecTreeModel = DecisionTreeClassifier(class_weight={0:1,1:7})\n",
    "    DecTreeModel.fit(trn_x,trn_y)\n",
    "    oof_clf_preds[val_] = DecTreeModel.predict_proba(val_x)[:,1]\n",
    "\n",
    "print(classification_report(y, oof_clf_preds))    \n",
    "print(\"prob\")\n",
    "print(M.shape)\n",
    "print(oof_clf_preds.shape)\n"
   ]
  },
  {
   "cell_type": "code",
   "execution_count": 85,
   "metadata": {},
   "outputs": [
    {
     "name": "stdout",
     "output_type": "stream",
     "text": [
      "(90463, 34)\n",
      "DescribeResult(nobs=90463, minmax=(0.0, 6826960000.0), mean=1691131.0701612814, variance=1880908061376809.5, skewness=85.12569106511955, kurtosis=10180.543444369127)\n",
      "DescribeResult(nobs=90463, minmax=(0.0, 4272000000.0), mean=2162940.6497684135, variance=1974098170369087.2, skewness=55.78807037519845, kurtosis=4333.594858901213)\n"
     ]
    },
    {
     "data": {
      "text/plain": [
       "2.531384996418512"
      ]
     },
     "execution_count": 85,
     "metadata": {},
     "output_type": "execute_result"
    }
   ],
   "source": [
    "M['non_zero_proba'] = oof_clf_preds\n",
    "print(M.shape)\n",
    "from sklearn.tree import DecisionTreeRegressor\n",
    "\n",
    "oof_reg_preds = np.zeros(M.shape[0])\n",
    "\n",
    "y1 = train_df[\"totals.transactionRevenue\"].fillna(0)\n",
    "\n",
    "for fold_, (trn_, val_) in enumerate(folds.split(M, y1, groups=M['fullVisitorId'])):\n",
    "    trn_x, trn_y = M.iloc[trn_], y1.iloc[trn_]\n",
    "    val_x, val_y = M.iloc[val_], y1.iloc[val_]\n",
    "    \n",
    "    DecTreeReg = DecisionTreeRegressor()\n",
    "    DecTreeReg.fit(trn_x,trn_y)\n",
    "    oof_reg_preds[val_] = DecTreeReg.predict(val_x)\n",
    "\n",
    "\n",
    "print(stats.describe(y1))    \n",
    "print(stats.describe(oof_reg_preds))\n",
    "\n",
    "\n",
    "from sklearn.metrics import mean_squared_error    \n",
    "mean_squared_error(np.log1p(y1), np.log1p(oof_reg_preds)) ** .5 \n"
   ]
  },
  {
   "cell_type": "code",
   "execution_count": null,
   "metadata": {},
   "outputs": [],
   "source": []
  }
 ],
 "metadata": {
  "kernelspec": {
   "display_name": "Python 3",
   "language": "python",
   "name": "python3"
  },
  "language_info": {
   "codemirror_mode": {
    "name": "ipython",
    "version": 3
   },
   "file_extension": ".py",
   "mimetype": "text/x-python",
   "name": "python",
   "nbconvert_exporter": "python",
   "pygments_lexer": "ipython3",
   "version": "3.7.0"
  }
 },
 "nbformat": 4,
 "nbformat_minor": 2
}
