{
 "cells": [
  {
   "cell_type": "code",
   "execution_count": 34,
   "metadata": {},
   "outputs": [],
   "source": [
    "import matplotlib.pyplot as plt\n",
    "import os\n",
    "import json\n",
    "import pandas as pd\n",
    "import numpy as np\n",
    "from pandas.io.json import json_normalize\n",
    "import random\n",
    "from sklearn.model_selection import train_test_split\n",
    "from sklearn.tree import DecisionTreeClassifier\n",
    "import warnings\n",
    "warnings.filterwarnings('ignore')\n",
    "from sklearn.metrics import classification_report\n",
    "from scipy import stats\n"
   ]
  },
  {
   "cell_type": "code",
   "execution_count": 35,
   "metadata": {},
   "outputs": [
    {
     "name": "stdout",
     "output_type": "stream",
     "text": [
      "Loaded train.csv. Shape: (903653, 55)\n",
      "loaded\n"
     ]
    }
   ],
   "source": [
    "\n",
    "\n",
    "def load_df(csv_path='./data/train.csv', nrows=None):\n",
    "    JSON_COLUMNS = ['device', 'geoNetwork', 'totals', 'trafficSource']\n",
    "    #p=0.1\n",
    "    df = pd.read_csv(csv_path,\n",
    "                     converters={column: json.loads for column in JSON_COLUMNS},\n",
    "                     dtype={'fullVisitorId': 'str'}, nrows=nrows,) # Important!!\n",
    "                      #skiprows=lambda i: i > 0 and random.random() > p)\n",
    "\n",
    "    for column in JSON_COLUMNS:\n",
    "        column_as_df = json_normalize(df[column])\n",
    "        column_as_df.columns = [f\"{column}.{subcolumn}\" for subcolumn in column_as_df.columns]\n",
    "        df = df.drop(column, axis=1).merge(column_as_df, right_index=True, left_index=True)\n",
    "    print(f\"Loaded {os.path.basename(csv_path)}. Shape: {df.shape}\")\n",
    "    return df\n",
    "\n",
    "train_df = load_df()\n",
    "print(\"loaded\")\n"
   ]
  },
  {
   "cell_type": "code",
   "execution_count": 31,
   "metadata": {},
   "outputs": [
    {
     "name": "stdout",
     "output_type": "stream",
     "text": [
      "False    88953\n",
      "True      1215\n",
      "Name: shops or not, dtype: int64\n",
      "(90168, 32)\n",
      "(90168, 28)\n"
     ]
    }
   ],
   "source": [
    "#pd.set_option('display.max_columns', None)\n",
    "\n",
    "train_df[\"totals.transactionRevenue\"] = train_df[\"totals.transactionRevenue\"].astype('float')\n",
    "train_df['shops or not'] = train_df['totals.transactionRevenue'].values > 0\n",
    "\n",
    "print(pd.value_counts(train_df['shops or not']))\n",
    "\n",
    "def date_format(df):\n",
    "    df['date'] = pd.to_datetime(df['date'])\n",
    "    df['vis_date'] = pd.to_datetime(df['visitStartTime'])\n",
    "    df['sess_date_dow'] = df['vis_date'].dt.dayofweek\n",
    "    df['sess_date_hours'] = df['vis_date'].dt.hour\n",
    "    df['sess_date_dom'] = df['vis_date'].dt.day\n",
    "\n",
    "date_format(train_df)\n",
    "\n",
    "excluded_features =['socialEngagementType','totals.visits','totals.newVisits','device.browserVersion','device.flashVersion',\n",
    "\n",
    "         'device.language','device.browserSize','device.mobileDeviceInfo','device.mobileDeviceMarketingName',\n",
    "\n",
    "         'device.mobileDeviceModel','device.mobileInputSelector','device.operatingSystemVersion',\n",
    "\n",
    "         'device.screenColors','device.screenResolution','device.mobileDeviceBranding','geoNetwork.cityId',\n",
    "\n",
    "          'geoNetwork.latitude','geoNetwork.longitude','geoNetwork.networkLocation',\n",
    "\n",
    "          'trafficSource.adwordsClickInfo.criteriaParameters',\n",
    "\n",
    "                    # 'trafficSource.campaignCode',\n",
    "\n",
    "            'trafficSource.campaign','trafficSource.adContent','trafficSource.adwordsClickInfo.adNetworkType',\n",
    "\n",
    "            'trafficSource.adwordsClickInfo.gclId','trafficSource.adwordsClickInfo.isVideoAd',\n",
    "\n",
    "            'trafficSource.adwordsClickInfo.page','trafficSource.adwordsClickInfo.slot']\n",
    "\n",
    "A=train_df.drop(excluded_features,axis=1)\n",
    "\n",
    "print(A.shape)\n",
    "\n",
    "replace_null_values={'trafficSource.isTrueDirect': 'False', 'trafficSource.keyword': 'unknown',\n",
    "\n",
    "                     'trafficSource.referralPath': 'unknown'}\n",
    "\n",
    "B=A.fillna(value=replace_null_values)\n",
    "\n",
    "\n",
    "categorical_features = [\n",
    "\n",
    "    _f for _f in B.columns\n",
    "\n",
    "    if (B[_f].dtype == 'object')\n",
    "\n",
    "]\n",
    "\n",
    "\n",
    "\n",
    "#print(categorical_features)\n",
    "\n",
    "\n",
    "\n",
    "for f in categorical_features:\n",
    "\n",
    "    B[f], indexer = pd.factorize(B[f])\n",
    "\n",
    "\n",
    "\n",
    "M=B.drop(['shops or not','date','vis_date','totals.transactionRevenue'],axis=1)\n",
    "\n",
    "y=B['shops or not']\n",
    "\n",
    "# y=train_df['shops or not']\n",
    "\n",
    "\n",
    "\n",
    "#28 columns\n",
    "\n",
    "print(M.shape)"
   ]
  },
  {
   "cell_type": "code",
   "execution_count": 5,
   "metadata": {},
   "outputs": [
    {
     "name": "stdout",
     "output_type": "stream",
     "text": [
      "                       feature  importance\n",
      "20   totals.transactionRevenue    0.346028\n",
      "18                 totals.hits    0.171408\n",
      "19            totals.pageviews    0.136107\n",
      "17              totals.bounces    0.065808\n",
      "11        geoNetwork.continent    0.026451\n",
      "16     geoNetwork.subContinent    0.025288\n",
      "0              channelGrouping    0.023333\n",
      "3                      visitId    0.018897\n",
      "5               visitStartTime    0.017005\n",
      "1                fullVisitorId    0.016910\n",
      "21  trafficSource.isTrueDirect    0.015816\n",
      "2                    sessionId    0.015692\n",
      "9       device.operatingSystem    0.013143\n",
      "14    geoNetwork.networkDomain    0.012920\n",
      "13            geoNetwork.metro    0.012673\n",
      "4                  visitNumber    0.012065\n",
      "23        trafficSource.medium    0.011743\n",
      "15           geoNetwork.region    0.010564\n",
      "10             geoNetwork.city    0.009194\n",
      "8              device.isMobile    0.008935\n",
      "12          geoNetwork.country    0.006646\n",
      "6               device.browser    0.005671\n",
      "25        trafficSource.source    0.005220\n",
      "7        device.deviceCategory    0.004961\n",
      "24  trafficSource.referralPath    0.004819\n",
      "22       trafficSource.keyword    0.002702\n",
      "26               sess_date_dow    0.000000\n",
      "27             sess_date_hours    0.000000\n",
      "28               sess_date_dom    0.000000\n",
      "['sess_date_dow' 'sess_date_hours' 'sess_date_dom']\n"
     ]
    }
   ],
   "source": [
    "# feature selection\n",
    "from sklearn.ensemble import ExtraTreesClassifier\n",
    "# here criterion='entropy'  for the information gain, 'gini' for the Gini impurity \n",
    "model = ExtraTreesClassifier(criterion='entropy')\n",
    "model.fit(M,y)\n",
    "\n",
    "imp_df = pd.DataFrame()\n",
    "imp_df['feature'] = M.columns\n",
    "imp_df['importance'] = model.feature_importances_\n",
    "\n",
    "print(imp_df.sort_values('importance', ascending=False))\n",
    "\n",
    "imp_df = imp_df[imp_df['importance'].astype('float') < 0.0005] \n",
    "\n",
    "dropFeatures = imp_df['feature'].values \n",
    "print(dropFeatures)\n",
    "\n",
    "M=M.drop(dropFeatures,axis=1)"
   ]
  },
  {
   "cell_type": "code",
   "execution_count": 32,
   "metadata": {},
   "outputs": [
    {
     "name": "stdout",
     "output_type": "stream",
     "text": [
      "(90168, 28)\n"
     ]
    }
   ],
   "source": [
    "print(M.shape)"
   ]
  },
  {
   "cell_type": "code",
   "execution_count": 33,
   "metadata": {},
   "outputs": [
    {
     "name": "stdout",
     "output_type": "stream",
     "text": [
      "              precision    recall  f1-score   support\n",
      "\n",
      "       False       0.99      0.99      0.99     88953\n",
      "        True       0.31      0.38      0.34      1215\n",
      "\n",
      "   micro avg       0.98      0.98      0.98     90168\n",
      "   macro avg       0.65      0.68      0.66     90168\n",
      "weighted avg       0.98      0.98      0.98     90168\n",
      "\n",
      "prob\n",
      "(90168, 28)\n",
      "(90168,)\n"
     ]
    }
   ],
   "source": [
    "from sklearn.model_selection import KFold, GroupKFold\n",
    "from imblearn.over_sampling import SMOTE\n",
    "\n",
    "\n",
    "folds = GroupKFold(n_splits=5)\n",
    "oof_clf_preds = np.zeros(M.shape[0])\n",
    "\n",
    "for fold_, (trn_, val_) in enumerate(folds.split(M, y, groups=M['fullVisitorId'])):\n",
    "    trn_x, trn_y = M.iloc[trn_], y.iloc[trn_]\n",
    "    val_x, val_y = M.iloc[val_], y.iloc[val_]\n",
    "\n",
    "    #using smote     \n",
    "    sm = SMOTE(random_state=2)\n",
    "    trn_xSampled,trn_ySampled = sm.fit_sample(trn_x, trn_y)\n",
    " \n",
    "    #using class weight for imbalanced data\n",
    "    #DecTreeModel = DecisionTreeClassifier(class_weight={0:1,1:7})\n",
    "    DecTreeModel = DecisionTreeClassifier()\n",
    "    DecTreeModel.fit(trn_xSampled,trn_ySampled)\n",
    "    oof_clf_preds[val_] = DecTreeModel.predict_proba(val_x)[:,1]\n",
    "\n",
    "print(classification_report(y, oof_clf_preds))    \n",
    "print(\"prob\")\n",
    "print(M.shape)\n",
    "print(oof_clf_preds.shape)\n"
   ]
  },
  {
   "cell_type": "code",
   "execution_count": 19,
   "metadata": {},
   "outputs": [
    {
     "name": "stdout",
     "output_type": "stream",
     "text": [
      "(90303, 30)\n",
      "DescribeResult(nobs=90303, minmax=(0.0, 5614440000.0), mean=1712960.5882418081, variance=1502548889249260.5, skewness=69.13280512054052, kurtosis=7407.163354691013)\n",
      "DescribeResult(nobs=90303, minmax=(0.0, 1691500000.0), mean=1613638.3065900358, variance=904373456715624.6, skewness=35.45837259559211, kurtosis=1548.9728860534713)\n"
     ]
    },
    {
     "data": {
      "text/plain": [
       "0.0312636900211142"
      ]
     },
     "execution_count": 19,
     "metadata": {},
     "output_type": "execute_result"
    }
   ],
   "source": [
    "M['non_zero_proba'] = oof_clf_preds\n",
    "print(M.shape)\n",
    "from sklearn.tree import DecisionTreeRegressor\n",
    "\n",
    "oof_reg_preds = np.zeros(M.shape[0])\n",
    "\n",
    "y1 = train_df[\"totals.transactionRevenue\"].fillna(0)\n",
    "\n",
    "for fold_, (trn_, val_) in enumerate(folds.split(M, y1, groups=M['fullVisitorId'])):\n",
    "    trn_x, trn_y = M.iloc[trn_], y1.iloc[trn_]\n",
    "    val_x, val_y = M.iloc[val_], y1.iloc[val_]\n",
    "    \n",
    "    DecTreeReg = DecisionTreeRegressor()\n",
    "    DecTreeReg.fit(trn_x,trn_y)\n",
    "    oof_reg_preds[val_] = DecTreeReg.predict(val_x)\n",
    "\n",
    "\n",
    "print(stats.describe(y1))    \n",
    "print(stats.describe(oof_reg_preds))\n",
    "\n",
    "\n",
    "from sklearn.metrics import mean_squared_error    \n",
    "mean_squared_error(np.log1p(y1), np.log1p(oof_reg_preds)) ** .5 \n"
   ]
  },
  {
   "cell_type": "code",
   "execution_count": null,
   "metadata": {},
   "outputs": [],
   "source": []
  }
 ],
 "metadata": {
  "kernelspec": {
   "display_name": "Python 3",
   "language": "python",
   "name": "python3"
  },
  "language_info": {
   "codemirror_mode": {
    "name": "ipython",
    "version": 3
   },
   "file_extension": ".py",
   "mimetype": "text/x-python",
   "name": "python",
   "nbconvert_exporter": "python",
   "pygments_lexer": "ipython3",
   "version": "3.7.0"
  }
 },
 "nbformat": 4,
 "nbformat_minor": 2
}
